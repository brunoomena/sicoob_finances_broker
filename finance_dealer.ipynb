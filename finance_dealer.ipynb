{
 "cells": [
  {
   "cell_type": "code",
   "execution_count": 1,
   "metadata": {},
   "outputs": [],
   "source": [
    "import pandas as pd"
   ]
  },
  {
   "cell_type": "code",
   "execution_count": 2,
   "metadata": {},
   "outputs": [],
   "source": [
    "txt = open(\"Marco.rtf\",newline = '\\r').read()"
   ]
  },
  {
   "cell_type": "code",
   "execution_count": 3,
   "metadata": {},
   "outputs": [],
   "source": [
    "#Formatando as linhas\n",
    "txt = (txt.split(sep = '\\n')) "
   ]
  },
  {
   "cell_type": "code",
   "execution_count": 4,
   "metadata": {},
   "outputs": [],
   "source": [
    "df = pd.DataFrame()\n",
    "df['col'] = txt"
   ]
  },
  {
   "cell_type": "code",
   "execution_count": 5,
   "metadata": {},
   "outputs": [],
   "source": [
    "#Separando creditos e debitos\n",
    "credits, debits, credits_desc, debits_desc = [],[],[],[]\n",
    "\n",
    "for i in range(len(df)-1):\n",
    "    \n",
    "    if df.col[i][-1] == 'C' and 'SALDO DO DIA' not in df.col[i]:\n",
    "        credits.append(df.col[i])\n",
    "        credits_desc.append(df.col[i+1])\n",
    "    elif df.col[i][-1] == 'D':\n",
    "        debits.append(df.col[i])\n",
    "        debits_desc.append(df.col[i+1])"
   ]
  },
  {
   "cell_type": "markdown",
   "metadata": {},
   "source": [
    "### Organizando créditos"
   ]
  },
  {
   "cell_type": "code",
   "execution_count": 6,
   "metadata": {},
   "outputs": [],
   "source": [
    "def separa_valor(df,df_col,colname):\n",
    "    '''Uma funçao que separa os valores contidos em uma unica coluna'''\n",
    "    \n",
    "    if colname == 'cred':\n",
    "        val = 2\n",
    "    elif colname == 'debt':\n",
    "        val = 3\n",
    "    \n",
    "    #Cria novas colunas para a data e valor de cada transação\n",
    "    data,valor = [],[]\n",
    "    for i in range(len(df)):\n",
    "        data.append(df_col[i].rsplit()[0])\n",
    "        valor.append(df_col[i].rsplit()[val])\n",
    "        \n",
    "    df['data'] = data\n",
    "    df['valor'] = valor\n",
    "    df.drop(columns = colname, axis =1, inplace = True)\n",
    "    \n",
    "    return df"
   ]
  },
  {
   "cell_type": "code",
   "execution_count": 7,
   "metadata": {},
   "outputs": [],
   "source": [
    "def formata_df(df,strip):\n",
    "    df['valor'] = df['valor'].str.replace(strip,'')\n",
    "   # df['valor'] = df['valor'].str.replace(',','.')\n",
    "    if strip == 'C':\n",
    "        df = df[['data','cred_desc','valor']]\n",
    "    elif strip == 'D':\n",
    "        df = df[['data','debt_desc','valor']]\n",
    "        \n",
    "    for i in range(len(df)):\n",
    "        df.iloc[i][0] = df.iloc[i][0][2:] + '/' + df.iloc[i][0][:2]\n",
    "    \n",
    "    return df"
   ]
  },
  {
   "cell_type": "code",
   "execution_count": 8,
   "metadata": {},
   "outputs": [],
   "source": [
    "#Criando dataframe para armazenar creditos e suas descrições\n",
    "df_cred = pd.DataFrame()\n",
    "df_cred['cred'] = credits\n",
    "df_cred['cred_desc'] =credits_desc"
   ]
  },
  {
   "cell_type": "code",
   "execution_count": 9,
   "metadata": {},
   "outputs": [],
   "source": [
    "df_cred = separa_valor(df_cred,df_cred.cred,'cred')"
   ]
  },
  {
   "cell_type": "code",
   "execution_count": 10,
   "metadata": {},
   "outputs": [],
   "source": [
    "#Limpando rows indesejadas\n",
    "df_cred = df_cred[df_cred.data != 'SALDO']\n",
    "df_cred = df_cred[df_cred.data != 'LIMITE']\n",
    "df_cred = df_cred[df_cred.data != 'RDC']\n",
    "df_cred = df_cred[df_cred.valor != 'ANTERIOR']\n",
    "df_cred = df_cred[df_cred.valor != 'CRÉD.DEVOLUÇÃO']"
   ]
  },
  {
   "cell_type": "code",
   "execution_count": 11,
   "metadata": {},
   "outputs": [],
   "source": [
    "df_cred = formata_df(df_cred,'C')"
   ]
  },
  {
   "cell_type": "code",
   "execution_count": 12,
   "metadata": {},
   "outputs": [],
   "source": [
    "df_cred.to_excel('creditos_new.xlsx', index=False)"
   ]
  },
  {
   "cell_type": "markdown",
   "metadata": {},
   "source": [
    "### Organizando débitos "
   ]
  },
  {
   "cell_type": "code",
   "execution_count": 13,
   "metadata": {},
   "outputs": [],
   "source": [
    "#Criando dataframe para armazenar creditos e suas descrições\n",
    "df_debt = pd.DataFrame()\n",
    "df_debt['debt'] = debits\n",
    "df_debt['debt_desc'] =debits_desc"
   ]
  },
  {
   "cell_type": "code",
   "execution_count": 14,
   "metadata": {},
   "outputs": [],
   "source": [
    "#A função separa_valor só funciona para quando a row tem 4 palavras, essa célula garante que a row tenha 4 palavras\n",
    "for i in range(len(df_debt.debt)):\n",
    "    \n",
    "    if len(df_debt.debt[i].rsplit()) >4:\n",
    "        delet = len(df_debt.debt[i].rsplit()) -4\n",
    "        for j in range(delet):\n",
    "            df_debt.debt[i] = df_debt.debt[i].strip(str(df_debt.debt[i].split(' ', 1)[j]))\n",
    "            \n",
    "    if len(df_debt.debt[i].rsplit()) <4:\n",
    "        add = 4 - len(df_debt.debt[i].rsplit()) \n",
    "        df_debt.debt[i] = ('0 '*add)+df_debt.debt[i]"
   ]
  },
  {
   "cell_type": "code",
   "execution_count": 15,
   "metadata": {},
   "outputs": [],
   "source": [
    "#Limpando rows indesejadas\n",
    "lista = [\"PREVISÃO CPMF\",\"PREVISÃO IOF\",\"PREVISÃO ENCARGOS\",\"PREVISÃO TARIFAS\"]\n",
    "for i in lista:\n",
    "    df_debt = df_debt[~df_debt.debt.str.contains(i)]"
   ]
  },
  {
   "cell_type": "code",
   "execution_count": 16,
   "metadata": {},
   "outputs": [],
   "source": [
    "df_debt = separa_valor(df_debt,df_debt.debt,'debt')"
   ]
  },
  {
   "cell_type": "code",
   "execution_count": 17,
   "metadata": {},
   "outputs": [],
   "source": [
    "df_debt = formata_df(df_debt,'D')"
   ]
  },
  {
   "cell_type": "code",
   "execution_count": 18,
   "metadata": {},
   "outputs": [],
   "source": [
    "df_debt.to_excel('debitos_new.xlsx', index=False)"
   ]
  }
 ],
 "metadata": {
  "kernelspec": {
   "display_name": "Python 3",
   "language": "python",
   "name": "python3"
  },
  "language_info": {
   "codemirror_mode": {
    "name": "ipython",
    "version": 3
   },
   "file_extension": ".py",
   "mimetype": "text/x-python",
   "name": "python",
   "nbconvert_exporter": "python",
   "pygments_lexer": "ipython3",
   "version": "3.7.6"
  }
 },
 "nbformat": 4,
 "nbformat_minor": 2
}
