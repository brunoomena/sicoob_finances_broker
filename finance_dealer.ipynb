{
 "cells": [
  {
   "cell_type": "code",
   "execution_count": 1,
   "metadata": {},
   "outputs": [],
   "source": [
    "import pandas as pd"
   ]
  },
  {
   "cell_type": "code",
   "execution_count": 2,
   "metadata": {},
   "outputs": [],
   "source": [
    "txt = open(\"extrato (6).rtf\",newline = '\\r').read()"
   ]
  },
  {
   "cell_type": "code",
   "execution_count": 3,
   "metadata": {},
   "outputs": [],
   "source": [
    "#Formatando as linhas\n",
    "txt = (txt.split(sep = '\\n')) "
   ]
  },
  {
   "cell_type": "code",
   "execution_count": 4,
   "metadata": {},
   "outputs": [],
   "source": [
    "df = pd.DataFrame()\n",
    "df['col'] = txt"
   ]
  },
  {
   "cell_type": "code",
   "execution_count": 5,
   "metadata": {},
   "outputs": [
    {
     "data": {
      "text/plain": [
       "['------------------------------------------------\\r',\n",
       " '                     SICOOB                     \\r',\n",
       " '  SISTEMA DE COOPERATIVAS DE CRÉDITO DO BRASIL  \\r',\n",
       " '    SISBR - SISTEMA DE INFORMÁTICA DO SICOOB    \\r',\n",
       " '                                                \\r',\n",
       " '13/05/2020           EXTRATO            21:44:59\\r',\n",
       " '                 CONTA CORRENTE                 \\r',\n",
       " '                                                \\r',\n",
       " 'COOP.: / SICOOB CREDICOR/SP              \\r',\n",
       " 'CONTA: / \\r',\n",
       " '------------------------------------------------\\r',\n",
       " 'DATA DOC.   HISTÓRICO                     VALOR \\r',\n",
       " '30/04/2020  SALDO ANTERIOR             5.820,85C\\r',\n",
       " '30/04/2020  SALDO BLOQ.ANTERIOR            0,00*\\r',\n",
       " '0405 DÉB.TIT.COMPE.EFETI           57,89D\\r',\n",
       " '     Fios camera                                \\r',\n",
       " '0405 964710 DÉB.CONV.TELECOMUN.          144,91D\\r',\n",
       " '     Internet                                   \\r',\n",
       " '            SALDO DO DIA =====>        5.618,05C\\r',\n",
       " '0505 1490277CRÉD.TED-STR                 102,44C\\r',\n",
       " '     PORTO SEGURO CIA SEG GERAIS                \\r',\n",
       " '     61.198.164 0001-60                         \\r',\n",
       " '     CODIGO TED: T517618241                     \\r',\n",
       " '0505 965856 DÉB.CONV.TELECOMUN.           66,39D\\r',\n",
       " '     Claro                                      \\r',\n",
       " '0505 965861 DÉB.CONV.TELECOMUN.           64,99D\\r',\n",
       " '     Claro                                      \\r',\n",
       " '0505 965866 DÉB.CONV.TELECOMUN.           66,39D\\r',\n",
       " '     Claro                                      \\r',\n",
       " '0505 965868 DÉB.TIT.COMPE.EFETI          185,22D\\r',\n",
       " '     Verisure                                   \\r',\n",
       " '0505 1491369CRÉD.TED-STR                 476,96C\\r',\n",
       " '     BRADESCO AUTO RE CIA    SEGUROS            \\r',\n",
       " '     92.682.038 0001-00                         \\r',\n",
       " '     CODIGO TED: T517845449                     \\r',\n",
       " '0505 1491508CRÉD.TED-STR                 989,72C\\r',\n",
       " '     AZUL COMPANHIA DE SEGUROS GERAIS           \\r',\n",
       " '     33.448.150 0001-11                         \\r',\n",
       " '     CODIGO TED: T517876198                     \\r',\n",
       " '0505 966546 DÉB.TIT.COMPE.EFETI          460,00D\\r',\n",
       " '     Campanha vida adwords                      \\r',\n",
       " '            SALDO DO DIA =====>        6.344,18C\\r',\n",
       " '0605 1492835CRÉD.TED-STR               1.197,08C\\r',\n",
       " '     SUL AMERICA PARTICIPACOES E INVESTIMENTO   \\r',\n",
       " '     32.357.481 0001-83                         \\r',\n",
       " '     CODIGO TED: T518196189                     \\r',\n",
       " '     TRANSFERENCIA ENTRE CONTAS                 \\r',\n",
       " '0605 1493089CRÉD.TED-STR                 263,36C\\r',\n",
       " '     AZUL COMPANHIA DE SEGUROS GERAIS           \\r',\n",
       " '     33.448.150 0001-11                         \\r',\n",
       " '     CODIGO TED: T518251353                     \\r',\n",
       " '            SALDO DO DIA =====>        7.804,62C\\r',\n",
       " '0705 1493700CRÉD.TED-STR                  55,46C\\r',\n",
       " '     PORTO SEGURO CIA SEG GERAIS                \\r',\n",
       " '     61.198.164 0001-60                         \\r',\n",
       " '     CODIGO TED: T518441294                     \\r',\n",
       " '0705 1494782CRÉD.TED-STR                 171,19C\\r',\n",
       " '     LIBERTY SEGUROS S.A.                       \\r',\n",
       " '     61.550.141 0001-72                         \\r',\n",
       " '     CODIGO TED: T518677398                     \\r',\n",
       " '0705 1495372CRÉD.TED-STR                 654,19C\\r',\n",
       " '     SUHAI SEGURADORA S A                       \\r',\n",
       " '     16.825.255 0001-23                         \\r',\n",
       " '     CODIGO TED: T518817016                     \\r',\n",
       " '0705 2079   DEB.PARC.SUBS/INTEG           10,00D\\r',\n",
       " '            SALDO DO DIA =====>        8.675,46C\\r',\n",
       " '0805 1496672CRÉD.TED-STR                 185,01C\\r',\n",
       " '     SUL AMERICA PARTICIPACOES E INVESTIMENTO   \\r',\n",
       " '     32.357.481 0001-83                         \\r',\n",
       " '     CODIGO TED: T519126742                     \\r',\n",
       " '     TRANSFERENCIA ENTRE CONTAS                 \\r',\n",
       " '0805 1497051CRÉD.TED-STR                 149,62C\\r',\n",
       " '     MAPFRE SEGUROS GERAIS S.A.                 \\r',\n",
       " '     61.074.175 0001-38                         \\r',\n",
       " '     CODIGO TED: T519221691                     \\r',\n",
       " '     PAGAMENTOS DIVERSOS                        \\r',\n",
       " '0805 1497383CRÉD.TED-STR               1.690,84C\\r',\n",
       " '     PORTO SEGURO CIA SEG GERAIS                \\r',\n",
       " '     61.198.164 0001-60                         \\r',\n",
       " '     CODIGO TED: T519308021                     \\r',\n",
       " '            SALDO DO DIA =====>       10.700,93C\\r',\n",
       " '1105 1498788CRÉD.TED-STR                 128,01C\\r',\n",
       " '     LIBERTY SEGUROS S.A.                       \\r',\n",
       " '     61.550.141 0001-72                         \\r',\n",
       " '     CODIGO TED: T519586023                     \\r',\n",
       " '1105 1498977CRÉD.TED-STR                 892,07C\\r',\n",
       " '     AZUL COMPANHIA DE SEGUROS GERAIS           \\r',\n",
       " '     33.448.150 0001-11                         \\r',\n",
       " '     CODIGO TED: T519623224                     \\r',\n",
       " '1105 970638 DÉB.TIT.COMPE.EFETI          260,00D\\r',\n",
       " '     Contador                                   \\r',\n",
       " '1105 970642 DÉB.CONV.PREFEITURA            3,78D\\r',\n",
       " '     Iss                                        \\r',\n",
       " '            SALDO DO DIA =====>       11.457,23C\\r',\n",
       " '1205 972024 DÉB.CONV.SANEAMENTO          258,40D\\r',\n",
       " '     Água                                       \\r',\n",
       " '1205 972029 DÉB.CNV.EN.ELET.GAS          256,67D\\r',\n",
       " '     Luz                                        \\r',\n",
       " '            SALDO DO DIA =====>       10.942,16C\\r',\n",
       " '1305 1501907CRÉD.TED-STR                 326,34C\\r',\n",
       " '     SUL AMERICA SEGUROS DE AUTOMOVEIS E MASS   \\r',\n",
       " '     32.357.481 0001-83                         \\r',\n",
       " '     CODIGO TED: T520248713                     \\r',\n",
       " '     TRANSFERENCIA ENTRE CONTAS                 \\r',\n",
       " '1305 972507 DÉB.TIT.COMPE.EFETI          200,00D\\r',\n",
       " '     Adwords                                    \\r',\n",
       " '1305 1502263CRÉD.TED-STR                 448,92C\\r',\n",
       " '     AZUL COMPANHIA DE SEGUROS GERAIS           \\r',\n",
       " '     33.448.150 0001-11                         \\r',\n",
       " '     CODIGO TED: T520319197                     \\r',\n",
       " '            SALDO DO DIA =====>       11.517,42C\\r',\n",
       " '-------------------- RESUMO --------------------\\r',\n",
       " 'SALDO EM C.CORRENTE....(+):           11.517,42C\\r',\n",
       " 'SALDO EM C.INVESTIMENTO(+):                0,00C\\r',\n",
       " 'LIMITE CONTA GARANTIDA.(+):                0,00C\\r',\n",
       " 'SALDO DISPONÍVEL.......(=):           11.517,42C\\r',\n",
       " 'SALDO BLOQ.C.CORRENTE.....:                0,00*\\r',\n",
       " 'SALDO BLOQ.C.INVESTIMENTO.:                0,00*\\r',\n",
       " 'VENCTO CONTA GARANTIDA....:                     \\r',\n",
       " 'TAXA CONTA GARANTIDA(a.m.):                4,50%\\r',\n",
       " 'PREVISÃO CPMF.............:                0,00D\\r',\n",
       " 'PREVISÃO IOF..............:                0,00D\\r',\n",
       " 'PREVISÃO ENCARGOS.........:                0,00D\\r',\n",
       " 'PREVISÃO TARIFAS..........:                0,00D\\r',\n",
       " '------- SALDO DE APLICAÇÕES EM 12/05/2020-------\\r',\n",
       " 'RDC - Longo CDI                       36.222,68C\\r',\n",
       " '----- 000 EXTRATOS EMITIDOS ATÉ 11/05/2020 -----\\r',\n",
       " 'OUVIDORIA SICOOB: 08007250996                   \\r',\n",
       " '\\r',\n",
       " '']"
      ]
     },
     "execution_count": 5,
     "metadata": {},
     "output_type": "execute_result"
    }
   ],
   "source": [
    "txt"
   ]
  },
  {
   "cell_type": "code",
   "execution_count": 6,
   "metadata": {},
   "outputs": [],
   "source": [
    "#Separando creditos e debitos\n",
    "credits, debits, credits_desc, debits_desc = [],[],[],[]\n",
    "\n",
    "for i in range(len(df)-1):\n",
    "    \n",
    "    if df.col[i][-1] == 'C' and 'SALDO DO DIA' not in df.col[i]:\n",
    "        credits.append(df.col[i])\n",
    "        credits_desc.append(df.col[i+1])\n",
    "    elif df.col[i][-1] == 'D':\n",
    "        debits.append(df.col[i])\n",
    "        debits_desc.append(df.col[i+1])"
   ]
  },
  {
   "cell_type": "code",
   "execution_count": 7,
   "metadata": {},
   "outputs": [],
   "source": [
    "#Criando dataframe para armazenar creditos e suas descrições\n",
    "df_cred = pd.DataFrame()\n",
    "df_cred['cred'] = credits\n",
    "df_cred['cred_desc'] =credits_desc"
   ]
  },
  {
   "cell_type": "code",
   "execution_count": 8,
   "metadata": {},
   "outputs": [],
   "source": [
    "#separando valores e datas e criando novas colunas para cada\n",
    "data,valor = [],[]\n",
    "for i in range(len(df_cred)):\n",
    "    data.append(df_cred.cred[i].rsplit()[0])\n",
    "    valor.append(df_cred.cred[i].rsplit()[2])\n",
    "    \n",
    "df_cred['data'] = data\n",
    "df_cred['valor'] = valor\n",
    "df_cred.drop(['cred'], axis =1, inplace = True)"
   ]
  },
  {
   "cell_type": "code",
   "execution_count": 9,
   "metadata": {},
   "outputs": [
    {
     "name": "stderr",
     "output_type": "stream",
     "text": [
      "C:\\Users\\omena\\AppData\\Local\\Continuum\\anaconda3\\lib\\site-packages\\pandas\\core\\ops\\array_ops.py:253: FutureWarning: elementwise comparison failed; returning scalar instead, but in the future will perform elementwise comparison\n",
      "  res_values = method(rvalues)\n"
     ]
    }
   ],
   "source": [
    "#Limpando rows indesejadas\n",
    "df_cred = df_cred[df_cred.data != 'SALDO']\n",
    "df_cred = df_cred[df_cred.data != 'LIMITE']\n",
    "df_cred = df_cred[df_cred.data != 'RDC']\n",
    "df_cred = df_cred[df_cred.valor != 'ANTERIOR']"
   ]
  },
  {
   "cell_type": "code",
   "execution_count": 10,
   "metadata": {},
   "outputs": [
    {
     "ename": "AttributeError",
     "evalue": "Can only use .str accessor with string values!",
     "output_type": "error",
     "traceback": [
      "\u001b[1;31m---------------------------------------------------------------------------\u001b[0m",
      "\u001b[1;31mAttributeError\u001b[0m                            Traceback (most recent call last)",
      "\u001b[1;32m<ipython-input-10-d0ba38a60394>\u001b[0m in \u001b[0;36m<module>\u001b[1;34m\u001b[0m\n\u001b[0;32m      1\u001b[0m \u001b[1;31m#Formatando campo \"valor\"\u001b[0m\u001b[1;33m\u001b[0m\u001b[1;33m\u001b[0m\u001b[1;33m\u001b[0m\u001b[0m\n\u001b[1;32m----> 2\u001b[1;33m \u001b[0mdf_cred\u001b[0m\u001b[1;33m[\u001b[0m\u001b[1;34m'valor'\u001b[0m\u001b[1;33m]\u001b[0m \u001b[1;33m=\u001b[0m \u001b[0mdf_cred\u001b[0m\u001b[1;33m[\u001b[0m\u001b[1;34m'valor'\u001b[0m\u001b[1;33m]\u001b[0m\u001b[1;33m.\u001b[0m\u001b[0mstr\u001b[0m\u001b[1;33m.\u001b[0m\u001b[0mreplace\u001b[0m\u001b[1;33m(\u001b[0m\u001b[1;34m'C'\u001b[0m\u001b[1;33m,\u001b[0m\u001b[1;34m''\u001b[0m\u001b[1;33m)\u001b[0m\u001b[1;33m\u001b[0m\u001b[1;33m\u001b[0m\u001b[0m\n\u001b[0m\u001b[0;32m      3\u001b[0m \u001b[0mdf_cred\u001b[0m\u001b[1;33m[\u001b[0m\u001b[1;34m'valor'\u001b[0m\u001b[1;33m]\u001b[0m \u001b[1;33m=\u001b[0m \u001b[0mdf_cred\u001b[0m\u001b[1;33m[\u001b[0m\u001b[1;34m'valor'\u001b[0m\u001b[1;33m]\u001b[0m\u001b[1;33m.\u001b[0m\u001b[0mstr\u001b[0m\u001b[1;33m.\u001b[0m\u001b[0mreplace\u001b[0m\u001b[1;33m(\u001b[0m\u001b[1;34m','\u001b[0m\u001b[1;33m,\u001b[0m\u001b[1;34m'.'\u001b[0m\u001b[1;33m)\u001b[0m\u001b[1;33m\u001b[0m\u001b[1;33m\u001b[0m\u001b[0m\n\u001b[0;32m      4\u001b[0m \u001b[0mdf_cred\u001b[0m \u001b[1;33m=\u001b[0m \u001b[0mdf_cred\u001b[0m\u001b[1;33m[\u001b[0m\u001b[1;33m[\u001b[0m\u001b[1;34m'data'\u001b[0m\u001b[1;33m,\u001b[0m\u001b[1;34m'cred_desc'\u001b[0m\u001b[1;33m,\u001b[0m\u001b[1;34m'valor'\u001b[0m\u001b[1;33m]\u001b[0m\u001b[1;33m]\u001b[0m\u001b[1;33m\u001b[0m\u001b[1;33m\u001b[0m\u001b[0m\n",
      "\u001b[1;32m~\\AppData\\Local\\Continuum\\anaconda3\\lib\\site-packages\\pandas\\core\\generic.py\u001b[0m in \u001b[0;36m__getattr__\u001b[1;34m(self, name)\u001b[0m\n\u001b[0;32m   5268\u001b[0m             \u001b[1;32mor\u001b[0m \u001b[0mname\u001b[0m \u001b[1;32min\u001b[0m \u001b[0mself\u001b[0m\u001b[1;33m.\u001b[0m\u001b[0m_accessors\u001b[0m\u001b[1;33m\u001b[0m\u001b[1;33m\u001b[0m\u001b[0m\n\u001b[0;32m   5269\u001b[0m         ):\n\u001b[1;32m-> 5270\u001b[1;33m             \u001b[1;32mreturn\u001b[0m \u001b[0mobject\u001b[0m\u001b[1;33m.\u001b[0m\u001b[0m__getattribute__\u001b[0m\u001b[1;33m(\u001b[0m\u001b[0mself\u001b[0m\u001b[1;33m,\u001b[0m \u001b[0mname\u001b[0m\u001b[1;33m)\u001b[0m\u001b[1;33m\u001b[0m\u001b[1;33m\u001b[0m\u001b[0m\n\u001b[0m\u001b[0;32m   5271\u001b[0m         \u001b[1;32melse\u001b[0m\u001b[1;33m:\u001b[0m\u001b[1;33m\u001b[0m\u001b[1;33m\u001b[0m\u001b[0m\n\u001b[0;32m   5272\u001b[0m             \u001b[1;32mif\u001b[0m \u001b[0mself\u001b[0m\u001b[1;33m.\u001b[0m\u001b[0m_info_axis\u001b[0m\u001b[1;33m.\u001b[0m\u001b[0m_can_hold_identifiers_and_holds_name\u001b[0m\u001b[1;33m(\u001b[0m\u001b[0mname\u001b[0m\u001b[1;33m)\u001b[0m\u001b[1;33m:\u001b[0m\u001b[1;33m\u001b[0m\u001b[1;33m\u001b[0m\u001b[0m\n",
      "\u001b[1;32m~\\AppData\\Local\\Continuum\\anaconda3\\lib\\site-packages\\pandas\\core\\accessor.py\u001b[0m in \u001b[0;36m__get__\u001b[1;34m(self, obj, cls)\u001b[0m\n\u001b[0;32m    185\u001b[0m             \u001b[1;31m# we're accessing the attribute of the class, i.e., Dataset.geo\u001b[0m\u001b[1;33m\u001b[0m\u001b[1;33m\u001b[0m\u001b[1;33m\u001b[0m\u001b[0m\n\u001b[0;32m    186\u001b[0m             \u001b[1;32mreturn\u001b[0m \u001b[0mself\u001b[0m\u001b[1;33m.\u001b[0m\u001b[0m_accessor\u001b[0m\u001b[1;33m\u001b[0m\u001b[1;33m\u001b[0m\u001b[0m\n\u001b[1;32m--> 187\u001b[1;33m         \u001b[0maccessor_obj\u001b[0m \u001b[1;33m=\u001b[0m \u001b[0mself\u001b[0m\u001b[1;33m.\u001b[0m\u001b[0m_accessor\u001b[0m\u001b[1;33m(\u001b[0m\u001b[0mobj\u001b[0m\u001b[1;33m)\u001b[0m\u001b[1;33m\u001b[0m\u001b[1;33m\u001b[0m\u001b[0m\n\u001b[0m\u001b[0;32m    188\u001b[0m         \u001b[1;31m# Replace the property with the accessor object. Inspired by:\u001b[0m\u001b[1;33m\u001b[0m\u001b[1;33m\u001b[0m\u001b[1;33m\u001b[0m\u001b[0m\n\u001b[0;32m    189\u001b[0m         \u001b[1;31m# http://www.pydanny.com/cached-property.html\u001b[0m\u001b[1;33m\u001b[0m\u001b[1;33m\u001b[0m\u001b[1;33m\u001b[0m\u001b[0m\n",
      "\u001b[1;32m~\\AppData\\Local\\Continuum\\anaconda3\\lib\\site-packages\\pandas\\core\\strings.py\u001b[0m in \u001b[0;36m__init__\u001b[1;34m(self, data)\u001b[0m\n\u001b[0;32m   2037\u001b[0m \u001b[1;33m\u001b[0m\u001b[0m\n\u001b[0;32m   2038\u001b[0m     \u001b[1;32mdef\u001b[0m \u001b[0m__init__\u001b[0m\u001b[1;33m(\u001b[0m\u001b[0mself\u001b[0m\u001b[1;33m,\u001b[0m \u001b[0mdata\u001b[0m\u001b[1;33m)\u001b[0m\u001b[1;33m:\u001b[0m\u001b[1;33m\u001b[0m\u001b[1;33m\u001b[0m\u001b[0m\n\u001b[1;32m-> 2039\u001b[1;33m         \u001b[0mself\u001b[0m\u001b[1;33m.\u001b[0m\u001b[0m_inferred_dtype\u001b[0m \u001b[1;33m=\u001b[0m \u001b[0mself\u001b[0m\u001b[1;33m.\u001b[0m\u001b[0m_validate\u001b[0m\u001b[1;33m(\u001b[0m\u001b[0mdata\u001b[0m\u001b[1;33m)\u001b[0m\u001b[1;33m\u001b[0m\u001b[1;33m\u001b[0m\u001b[0m\n\u001b[0m\u001b[0;32m   2040\u001b[0m         \u001b[0mself\u001b[0m\u001b[1;33m.\u001b[0m\u001b[0m_is_categorical\u001b[0m \u001b[1;33m=\u001b[0m \u001b[0mis_categorical_dtype\u001b[0m\u001b[1;33m(\u001b[0m\u001b[0mdata\u001b[0m\u001b[1;33m)\u001b[0m\u001b[1;33m\u001b[0m\u001b[1;33m\u001b[0m\u001b[0m\n\u001b[0;32m   2041\u001b[0m         \u001b[0mself\u001b[0m\u001b[1;33m.\u001b[0m\u001b[0m_is_string\u001b[0m \u001b[1;33m=\u001b[0m \u001b[0mdata\u001b[0m\u001b[1;33m.\u001b[0m\u001b[0mdtype\u001b[0m\u001b[1;33m.\u001b[0m\u001b[0mname\u001b[0m \u001b[1;33m==\u001b[0m \u001b[1;34m\"string\"\u001b[0m\u001b[1;33m\u001b[0m\u001b[1;33m\u001b[0m\u001b[0m\n",
      "\u001b[1;32m~\\AppData\\Local\\Continuum\\anaconda3\\lib\\site-packages\\pandas\\core\\strings.py\u001b[0m in \u001b[0;36m_validate\u001b[1;34m(data)\u001b[0m\n\u001b[0;32m   2094\u001b[0m \u001b[1;33m\u001b[0m\u001b[0m\n\u001b[0;32m   2095\u001b[0m         \u001b[1;32mif\u001b[0m \u001b[0minferred_dtype\u001b[0m \u001b[1;32mnot\u001b[0m \u001b[1;32min\u001b[0m \u001b[0mallowed_types\u001b[0m\u001b[1;33m:\u001b[0m\u001b[1;33m\u001b[0m\u001b[1;33m\u001b[0m\u001b[0m\n\u001b[1;32m-> 2096\u001b[1;33m             \u001b[1;32mraise\u001b[0m \u001b[0mAttributeError\u001b[0m\u001b[1;33m(\u001b[0m\u001b[1;34m\"Can only use .str accessor with string values!\"\u001b[0m\u001b[1;33m)\u001b[0m\u001b[1;33m\u001b[0m\u001b[1;33m\u001b[0m\u001b[0m\n\u001b[0m\u001b[0;32m   2097\u001b[0m         \u001b[1;32mreturn\u001b[0m \u001b[0minferred_dtype\u001b[0m\u001b[1;33m\u001b[0m\u001b[1;33m\u001b[0m\u001b[0m\n\u001b[0;32m   2098\u001b[0m \u001b[1;33m\u001b[0m\u001b[0m\n",
      "\u001b[1;31mAttributeError\u001b[0m: Can only use .str accessor with string values!"
     ]
    }
   ],
   "source": [
    "#Formatando campo \"valor\"\n",
    "df_cred['valor'] = df_cred['valor'].str.replace('C','')\n",
    "df_cred['valor'] = df_cred['valor'].str.replace(',','.')\n",
    "df_cred = df_cred[['data','cred_desc','valor']]"
   ]
  },
  {
   "cell_type": "code",
   "execution_count": null,
   "metadata": {},
   "outputs": [],
   "source": [
    "df_cred.to_excel('creditos_new.xlsx', index=False)"
   ]
  },
  {
   "cell_type": "code",
   "execution_count": null,
   "metadata": {},
   "outputs": [],
   "source": [
    "df_cred"
   ]
  },
  {
   "cell_type": "code",
   "execution_count": null,
   "metadata": {},
   "outputs": [],
   "source": []
  }
 ],
 "metadata": {
  "kernelspec": {
   "display_name": "Python 3",
   "language": "python",
   "name": "python3"
  },
  "language_info": {
   "codemirror_mode": {
    "name": "ipython",
    "version": 3
   },
   "file_extension": ".py",
   "mimetype": "text/x-python",
   "name": "python",
   "nbconvert_exporter": "python",
   "pygments_lexer": "ipython3",
   "version": "3.7.4"
  }
 },
 "nbformat": 4,
 "nbformat_minor": 2
}
