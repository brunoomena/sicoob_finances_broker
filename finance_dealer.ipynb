{
 "cells": [
  {
   "cell_type": "code",
   "execution_count": 175,
   "metadata": {},
   "outputs": [],
   "source": [
    "import pandas as pd"
   ]
  },
  {
   "cell_type": "code",
   "execution_count": 176,
   "metadata": {},
   "outputs": [],
   "source": [
    "txt = open(\"extrato (14).rtf\",newline = '\\r').read()"
   ]
  },
  {
   "cell_type": "code",
   "execution_count": 177,
   "metadata": {},
   "outputs": [],
   "source": [
    "#Formatando as linhas\n",
    "txt = (txt.split(sep = '\\n')) "
   ]
  },
  {
   "cell_type": "code",
   "execution_count": 178,
   "metadata": {},
   "outputs": [],
   "source": [
    "df = pd.DataFrame()\n",
    "df['col'] = txt"
   ]
  },
  {
   "cell_type": "code",
   "execution_count": 179,
   "metadata": {},
   "outputs": [],
   "source": [
    "#Separando creditos e debitos\n",
    "credits, debits, credits_desc, debits_desc = [],[],[],[]\n",
    "\n",
    "for i in range(len(df)-1):\n",
    "    \n",
    "    if df.col[i][-1] == 'C' and 'SALDO DO DIA' not in df.col[i]:\n",
    "        credits.append(df.col[i])\n",
    "        credits_desc.append(df.col[i+1])\n",
    "    elif df.col[i][-1] == 'D':\n",
    "        debits.append(df.col[i])\n",
    "        debits_desc.append(df.col[i+1])"
   ]
  },
  {
   "cell_type": "markdown",
   "metadata": {},
   "source": [
    "### Organizando créditos"
   ]
  },
  {
   "cell_type": "code",
   "execution_count": 180,
   "metadata": {},
   "outputs": [],
   "source": [
    "def separa_valor(df,df_col,colname):\n",
    "    '''Uma funçao que separa os valores contidos em uma unica coluna'''\n",
    "    \n",
    "    if colname == 'cred':\n",
    "        val = 2\n",
    "    elif colname == 'debt':\n",
    "        val = 3\n",
    "    \n",
    "    #Cria novas colunas para a data e valor de cada transação\n",
    "    data,valor = [],[]\n",
    "    for i in range(len(df)):\n",
    "        data.append(df_col[i].rsplit()[0])\n",
    "        valor.append(df_col[i].rsplit()[val])\n",
    "        \n",
    "    df['data'] = data\n",
    "    df['valor'] = valor\n",
    "    df.drop(columns = colname, axis =1, inplace = True)\n",
    "    \n",
    "    return df"
   ]
  },
  {
   "cell_type": "code",
   "execution_count": 181,
   "metadata": {},
   "outputs": [],
   "source": [
    "def formata_df(df,strip):\n",
    "    df['valor'] = df['valor'].str.replace(strip,'')\n",
    "   # df['valor'] = df['valor'].str.replace(',','.')\n",
    "    if strip == 'C':\n",
    "        df = df[['data','cred_desc','valor']]\n",
    "    elif strip == 'D':\n",
    "        df = df[['data','debt_desc','valor']]\n",
    "        \n",
    "    for i in range(len(df)):\n",
    "        df.iloc[i][0] = df.iloc[i][0][2:] + '/' + df.iloc[i][0][:2]\n",
    "    \n",
    "    return df"
   ]
  },
  {
   "cell_type": "code",
   "execution_count": 182,
   "metadata": {},
   "outputs": [],
   "source": [
    "#Criando dataframe para armazenar creditos e suas descrições\n",
    "df_cred = pd.DataFrame()\n",
    "df_cred['cred'] = credits\n",
    "df_cred['cred_desc'] =credits_desc"
   ]
  },
  {
   "cell_type": "code",
   "execution_count": 183,
   "metadata": {},
   "outputs": [],
   "source": [
    "df_cred = separa_valor(df_cred,df_cred.cred,'cred')"
   ]
  },
  {
   "cell_type": "code",
   "execution_count": 184,
   "metadata": {},
   "outputs": [],
   "source": [
    "#Limpando rows indesejadas\n",
    "df_cred = df_cred[df_cred.data != 'SALDO']\n",
    "df_cred = df_cred[df_cred.data != 'LIMITE']\n",
    "df_cred = df_cred[df_cred.data != 'RDC']\n",
    "df_cred = df_cred[df_cred.valor != 'ANTERIOR']\n",
    "df_cred = df_cred[df_cred.valor != 'CRÉD.DEVOLUÇÃO']"
   ]
  },
  {
   "cell_type": "code",
   "execution_count": 185,
   "metadata": {},
   "outputs": [],
   "source": [
    "df_cred = formata_df(df_cred,'C')"
   ]
  },
  {
   "cell_type": "code",
   "execution_count": 186,
   "metadata": {},
   "outputs": [],
   "source": [
    "df_cred.to_excel('creditos_new.xlsx', index=False)"
   ]
  },
  {
   "cell_type": "markdown",
   "metadata": {},
   "source": [
    "### Organizando débitos "
   ]
  },
  {
   "cell_type": "code",
   "execution_count": 187,
   "metadata": {},
   "outputs": [],
   "source": [
    "#Criando dataframe para armazenar creditos e suas descrições\n",
    "df_debt = pd.DataFrame()\n",
    "df_debt['debt'] = debits\n",
    "df_debt['debt_desc'] =debits_desc"
   ]
  },
  {
   "cell_type": "code",
   "execution_count": 188,
   "metadata": {},
   "outputs": [],
   "source": [
    "#A função separa_valor só funciona para quando a row tem 4 palavras, essa célula garante que a row tenha 4 palavras\n",
    "for i in range(len(df_debt.debt)):\n",
    "    \n",
    "    if len(df_debt.debt[i].rsplit()) >4:\n",
    "        delet = len(df_debt.debt[i].rsplit()) -4\n",
    "        for j in range(delet):\n",
    "            df_debt.debt[i] = df_debt.debt[i].strip(str(df_debt.debt[i].split(' ', 1)[j]))\n",
    "            \n",
    "    if len(df_debt.debt[i].rsplit()) <4:\n",
    "        add = 4 - len(df_debt.debt[i].rsplit()) \n",
    "        df_debt.debt[i] = ('0 '*add)+df_debt.debt[i]"
   ]
  },
  {
   "cell_type": "code",
   "execution_count": 191,
   "metadata": {},
   "outputs": [],
   "source": [
    "#Limpando rows indesejadas\n",
    "lista = [\"PREVISÃO CPMF\",\"PREVISÃO IOF\",\"PREVISÃO ENCARGOS\",\"PREVISÃO TARIFAS\"]\n",
    "for i in lista:\n",
    "    df_debt = df_debt[~df_debt.debt.str.contains(i)]"
   ]
  },
  {
   "cell_type": "code",
   "execution_count": 192,
   "metadata": {},
   "outputs": [],
   "source": [
    "df_debt = separa_valor(df_debt,df_debt.debt,'debt')"
   ]
  },
  {
   "cell_type": "code",
   "execution_count": 193,
   "metadata": {},
   "outputs": [],
   "source": [
    "df_debt = formata_df(df_debt,'D')"
   ]
  },
  {
   "cell_type": "code",
   "execution_count": 194,
   "metadata": {},
   "outputs": [],
   "source": [
    "df_debt.to_excel('debitos_new.xlsx', index=False)"
   ]
  },
  {
   "cell_type": "code",
   "execution_count": 195,
   "metadata": {},
   "outputs": [
    {
     "data": {
      "text/html": [
       "<div>\n",
       "<style scoped>\n",
       "    .dataframe tbody tr th:only-of-type {\n",
       "        vertical-align: middle;\n",
       "    }\n",
       "\n",
       "    .dataframe tbody tr th {\n",
       "        vertical-align: top;\n",
       "    }\n",
       "\n",
       "    .dataframe thead th {\n",
       "        text-align: right;\n",
       "    }\n",
       "</style>\n",
       "<table border=\"1\" class=\"dataframe\">\n",
       "  <thead>\n",
       "    <tr style=\"text-align: right;\">\n",
       "      <th></th>\n",
       "      <th>data</th>\n",
       "      <th>debt_desc</th>\n",
       "      <th>valor</th>\n",
       "    </tr>\n",
       "  </thead>\n",
       "  <tbody>\n",
       "    <tr>\n",
       "      <th>0</th>\n",
       "      <td>06/02</td>\n",
       "      <td>Adwords</td>\n",
       "      <td>200,00</td>\n",
       "    </tr>\n",
       "    <tr>\n",
       "      <th>1</th>\n",
       "      <td>06/02</td>\n",
       "      <td>Internet</td>\n",
       "      <td>161,98</td>\n",
       "    </tr>\n",
       "    <tr>\n",
       "      <th>2</th>\n",
       "      <td>06/03</td>\n",
       "      <td>Cartucho impressora</td>\n",
       "      <td>137,30</td>\n",
       "    </tr>\n",
       "    <tr>\n",
       "      <th>3</th>\n",
       "      <td>06/05</td>\n",
       "      <td>Alarme</td>\n",
       "      <td>185,22</td>\n",
       "    </tr>\n",
       "    <tr>\n",
       "      <th>4</th>\n",
       "      <td>06/05</td>\n",
       "      <td>Claro</td>\n",
       "      <td>66,39</td>\n",
       "    </tr>\n",
       "    <tr>\n",
       "      <th>5</th>\n",
       "      <td>06/05</td>\n",
       "      <td>Claro</td>\n",
       "      <td>64,99</td>\n",
       "    </tr>\n",
       "    <tr>\n",
       "      <th>6</th>\n",
       "      <td>06/05</td>\n",
       "      <td>Claro</td>\n",
       "      <td>66,39</td>\n",
       "    </tr>\n",
       "    <tr>\n",
       "      <th>7</th>\n",
       "      <td>06/08</td>\n",
       "      <td>SALDO DO DIA =====&gt;       11.369,69C</td>\n",
       "      <td>10,00</td>\n",
       "    </tr>\n",
       "    <tr>\n",
       "      <th>8</th>\n",
       "      <td>06/09</td>\n",
       "      <td>Adwords</td>\n",
       "      <td>200,00</td>\n",
       "    </tr>\n",
       "    <tr>\n",
       "      <th>9</th>\n",
       "      <td>06/10</td>\n",
       "      <td>Iss</td>\n",
       "      <td>3,78</td>\n",
       "    </tr>\n",
       "    <tr>\n",
       "      <th>10</th>\n",
       "      <td>06/10</td>\n",
       "      <td>Contador</td>\n",
       "      <td>260,00</td>\n",
       "    </tr>\n",
       "    <tr>\n",
       "      <th>11</th>\n",
       "      <td>06/10</td>\n",
       "      <td>Intermedica</td>\n",
       "      <td>902,25</td>\n",
       "    </tr>\n",
       "    <tr>\n",
       "      <th>12</th>\n",
       "      <td>06/15</td>\n",
       "      <td>Adwords</td>\n",
       "      <td>200,00</td>\n",
       "    </tr>\n",
       "    <tr>\n",
       "      <th>13</th>\n",
       "      <td>06/15</td>\n",
       "      <td>FAV.: ERALDO OMENA RIBEIRO</td>\n",
       "      <td>1.045,00</td>\n",
       "    </tr>\n",
       "    <tr>\n",
       "      <th>14</th>\n",
       "      <td>4747/99</td>\n",
       "      <td>Arthur omena Ribeiro</td>\n",
       "      <td>1.045,00</td>\n",
       "    </tr>\n",
       "    <tr>\n",
       "      <th>15</th>\n",
       "      <td>4750/99</td>\n",
       "      <td>Bruno Omena Ribeiro</td>\n",
       "      <td>1.045,00</td>\n",
       "    </tr>\n",
       "    <tr>\n",
       "      <th>16</th>\n",
       "      <td>06/15</td>\n",
       "      <td>Luz</td>\n",
       "      <td>257,94</td>\n",
       "    </tr>\n",
       "    <tr>\n",
       "      <th>17</th>\n",
       "      <td>8/18</td>\n",
       "      <td>SALDO DO DIA =====&gt;       10.235,45C</td>\n",
       "      <td>12,00</td>\n",
       "    </tr>\n",
       "    <tr>\n",
       "      <th>18</th>\n",
       "      <td>06/16</td>\n",
       "      <td>Água</td>\n",
       "      <td>155,59</td>\n",
       "    </tr>\n",
       "    <tr>\n",
       "      <th>19</th>\n",
       "      <td>06/16</td>\n",
       "      <td>Design</td>\n",
       "      <td>200,00</td>\n",
       "    </tr>\n",
       "    <tr>\n",
       "      <th>20</th>\n",
       "      <td>06/22</td>\n",
       "      <td>Adwords</td>\n",
       "      <td>200,00</td>\n",
       "    </tr>\n",
       "    <tr>\n",
       "      <th>21</th>\n",
       "      <td>06/22</td>\n",
       "      <td>Segflex</td>\n",
       "      <td>104,00</td>\n",
       "    </tr>\n",
       "    <tr>\n",
       "      <th>22</th>\n",
       "      <td>9697/99</td>\n",
       "      <td>Das</td>\n",
       "      <td>972,19</td>\n",
       "    </tr>\n",
       "    <tr>\n",
       "      <th>23</th>\n",
       "      <td>9700/99</td>\n",
       "      <td>2206 999702 DÉB.TIT.COMPE.EFETI           99,00D</td>\n",
       "      <td>344,85</td>\n",
       "    </tr>\n",
       "    <tr>\n",
       "      <th>24</th>\n",
       "      <td>06/22</td>\n",
       "      <td>Lvr</td>\n",
       "      <td>99,00</td>\n",
       "    </tr>\n",
       "    <tr>\n",
       "      <th>25</th>\n",
       "      <td>/0</td>\n",
       "      <td>Amil</td>\n",
       "      <td>144,68</td>\n",
       "    </tr>\n",
       "    <tr>\n",
       "      <th>26</th>\n",
       "      <td>/0</td>\n",
       "      <td>Workana design</td>\n",
       "      <td>271,70</td>\n",
       "    </tr>\n",
       "    <tr>\n",
       "      <th>27</th>\n",
       "      <td>/0</td>\n",
       "      <td>Edicao html</td>\n",
       "      <td>210,86</td>\n",
       "    </tr>\n",
       "    <tr>\n",
       "      <th>28</th>\n",
       "      <td>/0</td>\n",
       "      <td>Html pdf de cotacao</td>\n",
       "      <td>150,96</td>\n",
       "    </tr>\n",
       "    <tr>\n",
       "      <th>29</th>\n",
       "      <td>06/30</td>\n",
       "      <td>3006 1004988DÉB.EMISSÃO DOC-C            178,30D</td>\n",
       "      <td>93,87</td>\n",
       "    </tr>\n",
       "    <tr>\n",
       "      <th>30</th>\n",
       "      <td>06/30</td>\n",
       "      <td>FAV.: Dayana alencar</td>\n",
       "      <td>178,30</td>\n",
       "    </tr>\n",
       "    <tr>\n",
       "      <th>31</th>\n",
       "      <td>06/30</td>\n",
       "      <td>FAV.: Sabrina de cassia lopes da silva m</td>\n",
       "      <td>463,73</td>\n",
       "    </tr>\n",
       "  </tbody>\n",
       "</table>\n",
       "</div>"
      ],
      "text/plain": [
       "       data                                         debt_desc     valor\n",
       "0     06/02       Adwords                                        200,00\n",
       "1     06/02       Internet                                       161,98\n",
       "2     06/03       Cartucho impressora                            137,30\n",
       "3     06/05       Alarme                                         185,22\n",
       "4     06/05       Claro                                           66,39\n",
       "5     06/05       Claro                                           64,99\n",
       "6     06/05       Claro                                           66,39\n",
       "7     06/08              SALDO DO DIA =====>       11.369,69C     10,00\n",
       "8     06/09       Adwords                                        200,00\n",
       "9     06/10       Iss                                              3,78\n",
       "10    06/10       Contador                                       260,00\n",
       "11    06/10       Intermedica                                    902,25\n",
       "12    06/15       Adwords                                        200,00\n",
       "13    06/15       FAV.: ERALDO OMENA RIBEIRO                   1.045,00\n",
       "14  4747/99       Arthur omena Ribeiro                         1.045,00\n",
       "15  4750/99       Bruno Omena Ribeiro                          1.045,00\n",
       "16    06/15       Luz                                            257,94\n",
       "17     8/18              SALDO DO DIA =====>       10.235,45C     12,00\n",
       "18    06/16       Água                                           155,59\n",
       "19    06/16       Design                                         200,00\n",
       "20    06/22       Adwords                                        200,00\n",
       "21    06/22       Segflex                                        104,00\n",
       "22  9697/99       Das                                            972,19\n",
       "23  9700/99  2206 999702 DÉB.TIT.COMPE.EFETI           99,00D    344,85\n",
       "24    06/22       Lvr                                             99,00\n",
       "25       /0       Amil                                           144,68\n",
       "26       /0       Workana design                                 271,70\n",
       "27       /0       Edicao html                                    210,86\n",
       "28       /0       Html pdf de cotacao                            150,96\n",
       "29    06/30  3006 1004988DÉB.EMISSÃO DOC-C            178,30D     93,87\n",
       "30    06/30       FAV.: Dayana alencar                           178,30\n",
       "31    06/30       FAV.: Sabrina de cassia lopes da silva m       463,73"
      ]
     },
     "execution_count": 195,
     "metadata": {},
     "output_type": "execute_result"
    }
   ],
   "source": [
    "df_debt"
   ]
  },
  {
   "cell_type": "code",
   "execution_count": null,
   "metadata": {},
   "outputs": [],
   "source": []
  }
 ],
 "metadata": {
  "kernelspec": {
   "display_name": "Python 3",
   "language": "python",
   "name": "python3"
  },
  "language_info": {
   "codemirror_mode": {
    "name": "ipython",
    "version": 3
   },
   "file_extension": ".py",
   "mimetype": "text/x-python",
   "name": "python",
   "nbconvert_exporter": "python",
   "pygments_lexer": "ipython3",
   "version": "3.7.4"
  }
 },
 "nbformat": 4,
 "nbformat_minor": 2
}
