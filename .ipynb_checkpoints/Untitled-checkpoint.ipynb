{
 "cells": [
  {
   "cell_type": "code",
   "execution_count": 1,
   "metadata": {},
   "outputs": [],
   "source": [
    "import pandas as pd"
   ]
  },
  {
   "cell_type": "code",
   "execution_count": 2,
   "metadata": {},
   "outputs": [],
   "source": [
    "txt = open(\"extrato (5).rtf\",newline = '\\r').read()"
   ]
  },
  {
   "cell_type": "code",
   "execution_count": 3,
   "metadata": {},
   "outputs": [],
   "source": [
    "#Formatando as linhas\n",
    "txt = (txt.split(sep = '\\n')) "
   ]
  },
  {
   "cell_type": "code",
   "execution_count": 4,
   "metadata": {},
   "outputs": [],
   "source": [
    "df = pd.DataFrame()\n",
    "df['col'] = txt"
   ]
  },
  {
   "cell_type": "code",
   "execution_count": 5,
   "metadata": {},
   "outputs": [],
   "source": [
    "#Separando creditos e debitos\n",
    "credits, debits, credits_desc, debits_desc = [],[],[],[]\n",
    "\n",
    "for i in range(len(df)-1):\n",
    "    \n",
    "    if df.col[i][-1] == 'C' and 'SALDO DO DIA' not in df.col[i]:\n",
    "        credits.append(df.col[i])\n",
    "        credits_desc.append(df.col[i+1])\n",
    "    elif df.col[i][-1] == 'D':\n",
    "        debits.append(df.col[i])\n",
    "        debits_desc.append(df.col[i+1])"
   ]
  },
  {
   "cell_type": "code",
   "execution_count": 6,
   "metadata": {},
   "outputs": [],
   "source": [
    "#Criando dataframe para armazenar creditos e suas descrições\n",
    "df_cred = pd.DataFrame()\n",
    "df_cred['cred'] = credits\n",
    "df_cred['cred_desc'] =credits_desc"
   ]
  },
  {
   "cell_type": "code",
   "execution_count": 7,
   "metadata": {},
   "outputs": [],
   "source": [
    "#separando valores e datas e criando novas colunas para cada\n",
    "data,valor = [],[]\n",
    "for i in range(len(df_cred)):\n",
    "    data.append(df_cred.cred[i].rsplit()[0])\n",
    "    valor.append(df_cred.cred[i].rsplit()[2])\n",
    "    \n",
    "df_cred['data'] = data\n",
    "df_cred['valor'] = valor\n",
    "df_cred.drop(['cred'], axis =1, inplace = True)"
   ]
  },
  {
   "cell_type": "code",
   "execution_count": 8,
   "metadata": {},
   "outputs": [],
   "source": [
    "#Limpando rows indesejadas\n",
    "df_cred = df_cred[df_cred.data != 'SALDO']\n",
    "df_cred = df_cred[df_cred.data != 'LIMITE']\n",
    "df_cred = df_cred[df_cred.data != 'RDC']\n",
    "df_cred = df_cred[df_cred.valor != 'ANTERIOR']"
   ]
  },
  {
   "cell_type": "code",
   "execution_count": 9,
   "metadata": {},
   "outputs": [],
   "source": [
    "#Formatando campo \"valor\"\n",
    "df_cred['valor'] = df_cred['valor'].str.replace('C','')\n",
    "df_cred['valor'] = df_cred['valor'].str.replace(',','.')\n",
    "df_cred = df_cred[['data','cred_desc','valor']]"
   ]
  },
  {
   "cell_type": "code",
   "execution_count": 10,
   "metadata": {},
   "outputs": [],
   "source": [
    "df_cred.to_excel('creditos_new.xlsx', index=False)"
   ]
  },
  {
   "cell_type": "code",
   "execution_count": 11,
   "metadata": {},
   "outputs": [
    {
     "data": {
      "text/html": [
       "<div>\n",
       "<style scoped>\n",
       "    .dataframe tbody tr th:only-of-type {\n",
       "        vertical-align: middle;\n",
       "    }\n",
       "\n",
       "    .dataframe tbody tr th {\n",
       "        vertical-align: top;\n",
       "    }\n",
       "\n",
       "    .dataframe thead th {\n",
       "        text-align: right;\n",
       "    }\n",
       "</style>\n",
       "<table border=\"1\" class=\"dataframe\">\n",
       "  <thead>\n",
       "    <tr style=\"text-align: right;\">\n",
       "      <th></th>\n",
       "      <th>data</th>\n",
       "      <th>cred_desc</th>\n",
       "      <th>valor</th>\n",
       "    </tr>\n",
       "  </thead>\n",
       "  <tbody>\n",
       "    <tr>\n",
       "      <th>1</th>\n",
       "      <td>0505</td>\n",
       "      <td>PORTO SEGURO CIA SEG GERAIS</td>\n",
       "      <td>102.44</td>\n",
       "    </tr>\n",
       "    <tr>\n",
       "      <th>2</th>\n",
       "      <td>0505</td>\n",
       "      <td>BRADESCO AUTO RE CIA    SEGUROS</td>\n",
       "      <td>476.96</td>\n",
       "    </tr>\n",
       "    <tr>\n",
       "      <th>3</th>\n",
       "      <td>0505</td>\n",
       "      <td>AZUL COMPANHIA DE SEGUROS GERAIS</td>\n",
       "      <td>989.72</td>\n",
       "    </tr>\n",
       "    <tr>\n",
       "      <th>4</th>\n",
       "      <td>0605</td>\n",
       "      <td>SUL AMERICA PARTICIPACOES E INVESTIMENTO</td>\n",
       "      <td>1.197.08</td>\n",
       "    </tr>\n",
       "    <tr>\n",
       "      <th>5</th>\n",
       "      <td>0605</td>\n",
       "      <td>AZUL COMPANHIA DE SEGUROS GERAIS</td>\n",
       "      <td>263.36</td>\n",
       "    </tr>\n",
       "    <tr>\n",
       "      <th>6</th>\n",
       "      <td>0705</td>\n",
       "      <td>PORTO SEGURO CIA SEG GERAIS</td>\n",
       "      <td>55.46</td>\n",
       "    </tr>\n",
       "    <tr>\n",
       "      <th>7</th>\n",
       "      <td>0705</td>\n",
       "      <td>LIBERTY SEGUROS S.A.</td>\n",
       "      <td>171.19</td>\n",
       "    </tr>\n",
       "    <tr>\n",
       "      <th>8</th>\n",
       "      <td>0705</td>\n",
       "      <td>SUHAI SEGURADORA S A</td>\n",
       "      <td>654.19</td>\n",
       "    </tr>\n",
       "    <tr>\n",
       "      <th>9</th>\n",
       "      <td>0805</td>\n",
       "      <td>SUL AMERICA PARTICIPACOES E INVESTIMENTO</td>\n",
       "      <td>185.01</td>\n",
       "    </tr>\n",
       "    <tr>\n",
       "      <th>10</th>\n",
       "      <td>0805</td>\n",
       "      <td>MAPFRE SEGUROS GERAIS S.A.</td>\n",
       "      <td>149.62</td>\n",
       "    </tr>\n",
       "    <tr>\n",
       "      <th>11</th>\n",
       "      <td>0805</td>\n",
       "      <td>PORTO SEGURO CIA SEG GERAIS</td>\n",
       "      <td>1.690.84</td>\n",
       "    </tr>\n",
       "    <tr>\n",
       "      <th>12</th>\n",
       "      <td>1105</td>\n",
       "      <td>LIBERTY SEGUROS S.A.</td>\n",
       "      <td>128.01</td>\n",
       "    </tr>\n",
       "    <tr>\n",
       "      <th>13</th>\n",
       "      <td>1105</td>\n",
       "      <td>AZUL COMPANHIA DE SEGUROS GERAIS</td>\n",
       "      <td>892.07</td>\n",
       "    </tr>\n",
       "    <tr>\n",
       "      <th>14</th>\n",
       "      <td>1305</td>\n",
       "      <td>SUL AMERICA SEGUROS DE AUTOMOVEIS E MASS</td>\n",
       "      <td>326.34</td>\n",
       "    </tr>\n",
       "    <tr>\n",
       "      <th>15</th>\n",
       "      <td>1305</td>\n",
       "      <td>AZUL COMPANHIA DE SEGUROS GERAIS</td>\n",
       "      <td>448.92</td>\n",
       "    </tr>\n",
       "  </tbody>\n",
       "</table>\n",
       "</div>"
      ],
      "text/plain": [
       "    data                                         cred_desc     valor\n",
       "1   0505       PORTO SEGURO CIA SEG GERAIS                    102.44\n",
       "2   0505       BRADESCO AUTO RE CIA    SEGUROS                476.96\n",
       "3   0505       AZUL COMPANHIA DE SEGUROS GERAIS               989.72\n",
       "4   0605       SUL AMERICA PARTICIPACOES E INVESTIMENTO     1.197.08\n",
       "5   0605       AZUL COMPANHIA DE SEGUROS GERAIS               263.36\n",
       "6   0705       PORTO SEGURO CIA SEG GERAIS                     55.46\n",
       "7   0705       LIBERTY SEGUROS S.A.                           171.19\n",
       "8   0705       SUHAI SEGURADORA S A                           654.19\n",
       "9   0805       SUL AMERICA PARTICIPACOES E INVESTIMENTO       185.01\n",
       "10  0805       MAPFRE SEGUROS GERAIS S.A.                     149.62\n",
       "11  0805       PORTO SEGURO CIA SEG GERAIS                  1.690.84\n",
       "12  1105       LIBERTY SEGUROS S.A.                           128.01\n",
       "13  1105       AZUL COMPANHIA DE SEGUROS GERAIS               892.07\n",
       "14  1305       SUL AMERICA SEGUROS DE AUTOMOVEIS E MASS       326.34\n",
       "15  1305       AZUL COMPANHIA DE SEGUROS GERAIS               448.92"
      ]
     },
     "execution_count": 11,
     "metadata": {},
     "output_type": "execute_result"
    }
   ],
   "source": [
    "df_cred"
   ]
  },
  {
   "cell_type": "code",
   "execution_count": null,
   "metadata": {},
   "outputs": [],
   "source": []
  }
 ],
 "metadata": {
  "kernelspec": {
   "display_name": "Python 3",
   "language": "python",
   "name": "python3"
  },
  "language_info": {
   "codemirror_mode": {
    "name": "ipython",
    "version": 3
   },
   "file_extension": ".py",
   "mimetype": "text/x-python",
   "name": "python",
   "nbconvert_exporter": "python",
   "pygments_lexer": "ipython3",
   "version": "3.7.4"
  }
 },
 "nbformat": 4,
 "nbformat_minor": 2
}
