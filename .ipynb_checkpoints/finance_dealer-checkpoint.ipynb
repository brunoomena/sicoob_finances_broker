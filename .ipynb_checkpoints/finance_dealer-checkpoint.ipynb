{
 "cells": [
  {
   "cell_type": "code",
   "execution_count": 1,
   "metadata": {},
   "outputs": [],
   "source": [
    "#Importando pacotes\n",
    "import pandas as pd"
   ]
  },
  {
   "cell_type": "code",
   "execution_count": 2,
   "metadata": {},
   "outputs": [],
   "source": [
    "txt = open(\"extrato (4).rtf\",newline = '\\r').read()"
   ]
  },
  {
   "cell_type": "code",
   "execution_count": 3,
   "metadata": {},
   "outputs": [
    {
     "data": {
      "text/plain": [
       "'------------------------------------------------\\n                     SICOOB                     \\n  SISTEMA DE COOPERATIVAS DE CRÉDITO DO BRASIL  \\n    SISBR - SISTEMA DE INFORMÁTICA DO SICOOB    \\n                                                \\n06/05/2020           EXTRATO            15:49:28\\n                 CONTA CORRENTE                 \\n                                                \\nCOOP.: 4406-7 / SICOOB CREDICOR/SP              \\nCONTA: 2.088-5 / OMENA CORRETORA DE SEGUROS E CO\\n------------------------------------------------\\nDATA DOC.   HISTÓRICO                     VALOR \\n30/04/2020  SALDO ANTERIOR             5.820,85C\\n30/04/2020  SALDO BLOQ.ANTERIOR            0,00*\\n0405 964256 DÉB.TIT.COMPE.EFETI           57,89D\\n     Fios camera                                \\n0405 964710 DÉB.CONV.TELECOMUN.          144,91D\\n     Internet                                   \\n            SALDO DO DIA =====>        5.618,05C\\n0505 1490277CRÉD.TED-STR                 102,44C\\n     PORTO SEGURO CIA SEG GERAIS                \\n     61.198.164 0001-60                         \\n     CODIGO TED: T517618241                     \\n0505 965856 DÉB.CONV.TELECOMUN.           66,39D\\n     Claro                                      \\n0505 965861 DÉB.CONV.TELECOMUN.           64,99D\\n     Claro                                      \\n0505 965866 DÉB.CONV.TELECOMUN.           66,39D\\n     Claro                                      \\n0505 965868 DÉB.TIT.COMPE.EFETI          185,22D\\n     Verisure                                   \\n0505 1491369CRÉD.TED-STR                 476,96C\\n     BRADESCO AUTO RE CIA    SEGUROS            \\n     92.682.038 0001-00                         \\n     CODIGO TED: T517845449                     \\n0505 1491508CRÉD.TED-STR                 989,72C\\n     AZUL COMPANHIA DE SEGUROS GERAIS           \\n     33.448.150 0001-11                         \\n     CODIGO TED: T517876198                     \\n0505 966546 DÉB.TIT.COMPE.EFETI          460,00D\\n     Campanha vida adwords                      \\n            SALDO DO DIA =====>        6.344,18C\\n0605 1492835CRÉD.TED-STR               1.197,08C\\n     SUL AMERICA PARTICIPACOES E INVESTIMENTO   \\n     32.357.481 0001-83                         \\n     CODIGO TED: T518196189                     \\n     TRANSFERENCIA ENTRE CONTAS                 \\n0605 1493089CRÉD.TED-STR                 263,36C\\n     AZUL COMPANHIA DE SEGUROS GERAIS           \\n     33.448.150 0001-11                         \\n     CODIGO TED: T518251353                     \\n            SALDO DO DIA =====>        7.804,62C\\n-------------------- RESUMO --------------------\\nSALDO EM C.CORRENTE....(+):            7.804,62C\\nSALDO EM C.INVESTIMENTO(+):                0,00C\\nLIMITE CONTA GARANTIDA.(+):                0,00C\\nSALDO DISPONÍVEL.......(=):            7.804,62C\\nSALDO BLOQ.C.CORRENTE.....:                0,00*\\nSALDO BLOQ.C.INVESTIMENTO.:                0,00*\\nVENCTO CONTA GARANTIDA....:                     \\nTAXA CONTA GARANTIDA(a.m.):                4,50%\\nPREVISÃO CPMF.............:                0,00D\\nPREVISÃO IOF..............:                0,00D\\nPREVISÃO ENCARGOS.........:                0,00D\\nPREVISÃO TARIFAS..........:                0,00D\\n------- SALDO DE APLICAÇÕES EM 05/05/2020-------\\nRDC - Longo CDI                       36.205,48C\\n----- 000 EXTRATOS EMITIDOS ATÉ 04/05/2020 -----\\nOUVIDORIA SICOOB: 08007250996                   \\n'"
      ]
     },
     "execution_count": 3,
     "metadata": {},
     "output_type": "execute_result"
    }
   ],
   "source": [
    "txt"
   ]
  },
  {
   "cell_type": "code",
   "execution_count": 4,
   "metadata": {},
   "outputs": [],
   "source": [
    "#Formatando as linhas\n",
    "txt = (txt.split(sep = '\\n')) "
   ]
  },
  {
   "cell_type": "code",
   "execution_count": 5,
   "metadata": {},
   "outputs": [
    {
     "data": {
      "text/plain": [
       "['------------------------------------------------',\n",
       " '                     SICOOB                     ',\n",
       " '  SISTEMA DE COOPERATIVAS DE CRÉDITO DO BRASIL  ',\n",
       " '    SISBR - SISTEMA DE INFORMÁTICA DO SICOOB    ',\n",
       " '                                                ',\n",
       " '06/05/2020           EXTRATO            15:49:28',\n",
       " '                 CONTA CORRENTE                 ',\n",
       " '                                                ',\n",
       " 'COOP.: 4406-7 / SICOOB CREDICOR/SP              ',\n",
       " 'CONTA: 2.088-5 / OMENA CORRETORA DE SEGUROS E CO',\n",
       " '------------------------------------------------',\n",
       " 'DATA DOC.   HISTÓRICO                     VALOR ',\n",
       " '30/04/2020  SALDO ANTERIOR             5.820,85C',\n",
       " '30/04/2020  SALDO BLOQ.ANTERIOR            0,00*',\n",
       " '0405 964256 DÉB.TIT.COMPE.EFETI           57,89D',\n",
       " '     Fios camera                                ',\n",
       " '0405 964710 DÉB.CONV.TELECOMUN.          144,91D',\n",
       " '     Internet                                   ',\n",
       " '            SALDO DO DIA =====>        5.618,05C',\n",
       " '0505 1490277CRÉD.TED-STR                 102,44C',\n",
       " '     PORTO SEGURO CIA SEG GERAIS                ',\n",
       " '     61.198.164 0001-60                         ',\n",
       " '     CODIGO TED: T517618241                     ',\n",
       " '0505 965856 DÉB.CONV.TELECOMUN.           66,39D',\n",
       " '     Claro                                      ',\n",
       " '0505 965861 DÉB.CONV.TELECOMUN.           64,99D',\n",
       " '     Claro                                      ',\n",
       " '0505 965866 DÉB.CONV.TELECOMUN.           66,39D',\n",
       " '     Claro                                      ',\n",
       " '0505 965868 DÉB.TIT.COMPE.EFETI          185,22D',\n",
       " '     Verisure                                   ',\n",
       " '0505 1491369CRÉD.TED-STR                 476,96C',\n",
       " '     BRADESCO AUTO RE CIA    SEGUROS            ',\n",
       " '     92.682.038 0001-00                         ',\n",
       " '     CODIGO TED: T517845449                     ',\n",
       " '0505 1491508CRÉD.TED-STR                 989,72C',\n",
       " '     AZUL COMPANHIA DE SEGUROS GERAIS           ',\n",
       " '     33.448.150 0001-11                         ',\n",
       " '     CODIGO TED: T517876198                     ',\n",
       " '0505 966546 DÉB.TIT.COMPE.EFETI          460,00D',\n",
       " '     Campanha vida adwords                      ',\n",
       " '            SALDO DO DIA =====>        6.344,18C',\n",
       " '0605 1492835CRÉD.TED-STR               1.197,08C',\n",
       " '     SUL AMERICA PARTICIPACOES E INVESTIMENTO   ',\n",
       " '     32.357.481 0001-83                         ',\n",
       " '     CODIGO TED: T518196189                     ',\n",
       " '     TRANSFERENCIA ENTRE CONTAS                 ',\n",
       " '0605 1493089CRÉD.TED-STR                 263,36C',\n",
       " '     AZUL COMPANHIA DE SEGUROS GERAIS           ',\n",
       " '     33.448.150 0001-11                         ',\n",
       " '     CODIGO TED: T518251353                     ',\n",
       " '            SALDO DO DIA =====>        7.804,62C',\n",
       " '-------------------- RESUMO --------------------',\n",
       " 'SALDO EM C.CORRENTE....(+):            7.804,62C',\n",
       " 'SALDO EM C.INVESTIMENTO(+):                0,00C',\n",
       " 'LIMITE CONTA GARANTIDA.(+):                0,00C',\n",
       " 'SALDO DISPONÍVEL.......(=):            7.804,62C',\n",
       " 'SALDO BLOQ.C.CORRENTE.....:                0,00*',\n",
       " 'SALDO BLOQ.C.INVESTIMENTO.:                0,00*',\n",
       " 'VENCTO CONTA GARANTIDA....:                     ',\n",
       " 'TAXA CONTA GARANTIDA(a.m.):                4,50%',\n",
       " 'PREVISÃO CPMF.............:                0,00D',\n",
       " 'PREVISÃO IOF..............:                0,00D',\n",
       " 'PREVISÃO ENCARGOS.........:                0,00D',\n",
       " 'PREVISÃO TARIFAS..........:                0,00D',\n",
       " '------- SALDO DE APLICAÇÕES EM 05/05/2020-------',\n",
       " 'RDC - Longo CDI                       36.205,48C',\n",
       " '----- 000 EXTRATOS EMITIDOS ATÉ 04/05/2020 -----',\n",
       " 'OUVIDORIA SICOOB: 08007250996                   ',\n",
       " '']"
      ]
     },
     "execution_count": 5,
     "metadata": {},
     "output_type": "execute_result"
    }
   ],
   "source": [
    "txt"
   ]
  },
  {
   "cell_type": "code",
   "execution_count": 6,
   "metadata": {},
   "outputs": [],
   "source": [
    "#Separando creditos e de qual seguradoras eles pertencem\n",
    "\n",
    "creditos = []\n",
    "seguradoras = []\n",
    "contador = 0\n",
    "for i in txt:        \n",
    "    contador += 1\n",
    "    if i[len(i)-1:] == 'C' and 'SALDO DO DIA' not in i:\n",
    "        creditos.append(i)\n",
    "        seguradoras.append(txt[contador])"
   ]
  },
  {
   "cell_type": "code",
   "execution_count": 7,
   "metadata": {
    "scrolled": true
   },
   "outputs": [
    {
     "data": {
      "text/plain": [
       "['30/04/2020  SALDO BLOQ.ANTERIOR            0,00*',\n",
       " '     PORTO SEGURO CIA SEG GERAIS                ',\n",
       " '     BRADESCO AUTO RE CIA    SEGUROS            ',\n",
       " '     AZUL COMPANHIA DE SEGUROS GERAIS           ',\n",
       " '     SUL AMERICA PARTICIPACOES E INVESTIMENTO   ',\n",
       " '     AZUL COMPANHIA DE SEGUROS GERAIS           ',\n",
       " 'SALDO EM C.INVESTIMENTO(+):                0,00C',\n",
       " 'LIMITE CONTA GARANTIDA.(+):                0,00C',\n",
       " 'SALDO DISPONÍVEL.......(=):            7.804,62C',\n",
       " 'SALDO BLOQ.C.CORRENTE.....:                0,00*',\n",
       " '----- 000 EXTRATOS EMITIDOS ATÉ 04/05/2020 -----']"
      ]
     },
     "execution_count": 7,
     "metadata": {},
     "output_type": "execute_result"
    }
   ],
   "source": [
    "seguradoras"
   ]
  },
  {
   "cell_type": "code",
   "execution_count": 8,
   "metadata": {
    "scrolled": true
   },
   "outputs": [
    {
     "data": {
      "text/plain": [
       "['30/04/2020  SALDO ANTERIOR             5.820,85C',\n",
       " '0505 1490277CRÉD.TED-STR                 102,44C',\n",
       " '0505 1491369CRÉD.TED-STR                 476,96C',\n",
       " '0505 1491508CRÉD.TED-STR                 989,72C',\n",
       " '0605 1492835CRÉD.TED-STR               1.197,08C',\n",
       " '0605 1493089CRÉD.TED-STR                 263,36C',\n",
       " 'SALDO EM C.CORRENTE....(+):            7.804,62C',\n",
       " 'SALDO EM C.INVESTIMENTO(+):                0,00C',\n",
       " 'LIMITE CONTA GARANTIDA.(+):                0,00C',\n",
       " 'SALDO DISPONÍVEL.......(=):            7.804,62C',\n",
       " 'RDC - Longo CDI                       36.205,48C']"
      ]
     },
     "execution_count": 8,
     "metadata": {},
     "output_type": "execute_result"
    }
   ],
   "source": [
    "creditos"
   ]
  },
  {
   "cell_type": "code",
   "execution_count": 9,
   "metadata": {},
   "outputs": [],
   "source": [
    "#Separando debitos e suas descrições\n",
    "debitos = []\n",
    "descricao_deb = []\n",
    "contador = 0\n",
    "for i in txt:\n",
    "    if i[len(i)-1:] == 'D' and 'SALDO DO DIA' not in txt[contador+1]:\n",
    "        debitos.append(i)\n",
    "        descricao_deb.append(txt[contador+1])\n",
    "    if i[len(i)-1:] == 'D' and 'SALDO DO DIA' in txt[contador+1]:\n",
    "        debitos.append(i)\n",
    "        descricao_deb.append('     VAZIO')\n",
    "    contador += 1"
   ]
  },
  {
   "cell_type": "code",
   "execution_count": 10,
   "metadata": {},
   "outputs": [
    {
     "data": {
      "text/plain": [
       "['------------------------------------------------',\n",
       " '                     SICOOB                     ',\n",
       " '  SISTEMA DE COOPERATIVAS DE CRÉDITO DO BRASIL  ',\n",
       " '    SISBR - SISTEMA DE INFORMÁTICA DO SICOOB    ',\n",
       " '                                                ',\n",
       " '06/05/2020           EXTRATO            15:49:28',\n",
       " '                 CONTA CORRENTE                 ',\n",
       " '                                                ',\n",
       " 'COOP.: 4406-7 / SICOOB CREDICOR/SP              ',\n",
       " 'CONTA: 2.088-5 / OMENA CORRETORA DE SEGUROS E CO',\n",
       " '------------------------------------------------',\n",
       " 'DATA DOC.   HISTÓRICO                     VALOR ',\n",
       " '30/04/2020  SALDO ANTERIOR             5.820,85C',\n",
       " '30/04/2020  SALDO BLOQ.ANTERIOR            0,00*',\n",
       " '0405 964256 DÉB.TIT.COMPE.EFETI           57,89D',\n",
       " '     Fios camera                                ',\n",
       " '0405 964710 DÉB.CONV.TELECOMUN.          144,91D',\n",
       " '     Internet                                   ',\n",
       " '            SALDO DO DIA =====>        5.618,05C',\n",
       " '0505 1490277CRÉD.TED-STR                 102,44C',\n",
       " '     PORTO SEGURO CIA SEG GERAIS                ',\n",
       " '     61.198.164 0001-60                         ',\n",
       " '     CODIGO TED: T517618241                     ',\n",
       " '0505 965856 DÉB.CONV.TELECOMUN.           66,39D',\n",
       " '     Claro                                      ',\n",
       " '0505 965861 DÉB.CONV.TELECOMUN.           64,99D',\n",
       " '     Claro                                      ',\n",
       " '0505 965866 DÉB.CONV.TELECOMUN.           66,39D',\n",
       " '     Claro                                      ',\n",
       " '0505 965868 DÉB.TIT.COMPE.EFETI          185,22D',\n",
       " '     Verisure                                   ',\n",
       " '0505 1491369CRÉD.TED-STR                 476,96C',\n",
       " '     BRADESCO AUTO RE CIA    SEGUROS            ',\n",
       " '     92.682.038 0001-00                         ',\n",
       " '     CODIGO TED: T517845449                     ',\n",
       " '0505 1491508CRÉD.TED-STR                 989,72C',\n",
       " '     AZUL COMPANHIA DE SEGUROS GERAIS           ',\n",
       " '     33.448.150 0001-11                         ',\n",
       " '     CODIGO TED: T517876198                     ',\n",
       " '0505 966546 DÉB.TIT.COMPE.EFETI          460,00D',\n",
       " '     Campanha vida adwords                      ',\n",
       " '            SALDO DO DIA =====>        6.344,18C',\n",
       " '0605 1492835CRÉD.TED-STR               1.197,08C',\n",
       " '     SUL AMERICA PARTICIPACOES E INVESTIMENTO   ',\n",
       " '     32.357.481 0001-83                         ',\n",
       " '     CODIGO TED: T518196189                     ',\n",
       " '     TRANSFERENCIA ENTRE CONTAS                 ',\n",
       " '0605 1493089CRÉD.TED-STR                 263,36C',\n",
       " '     AZUL COMPANHIA DE SEGUROS GERAIS           ',\n",
       " '     33.448.150 0001-11                         ',\n",
       " '     CODIGO TED: T518251353                     ',\n",
       " '            SALDO DO DIA =====>        7.804,62C',\n",
       " '-------------------- RESUMO --------------------',\n",
       " 'SALDO EM C.CORRENTE....(+):            7.804,62C',\n",
       " 'SALDO EM C.INVESTIMENTO(+):                0,00C',\n",
       " 'LIMITE CONTA GARANTIDA.(+):                0,00C',\n",
       " 'SALDO DISPONÍVEL.......(=):            7.804,62C',\n",
       " 'SALDO BLOQ.C.CORRENTE.....:                0,00*',\n",
       " 'SALDO BLOQ.C.INVESTIMENTO.:                0,00*',\n",
       " 'VENCTO CONTA GARANTIDA....:                     ',\n",
       " 'TAXA CONTA GARANTIDA(a.m.):                4,50%',\n",
       " 'PREVISÃO CPMF.............:                0,00D',\n",
       " 'PREVISÃO IOF..............:                0,00D',\n",
       " 'PREVISÃO ENCARGOS.........:                0,00D',\n",
       " 'PREVISÃO TARIFAS..........:                0,00D',\n",
       " '------- SALDO DE APLICAÇÕES EM 05/05/2020-------',\n",
       " 'RDC - Longo CDI                       36.205,48C',\n",
       " '----- 000 EXTRATOS EMITIDOS ATÉ 04/05/2020 -----',\n",
       " 'OUVIDORIA SICOOB: 08007250996                   ',\n",
       " '']"
      ]
     },
     "execution_count": 10,
     "metadata": {},
     "output_type": "execute_result"
    }
   ],
   "source": [
    "txt"
   ]
  },
  {
   "cell_type": "code",
   "execution_count": 11,
   "metadata": {
    "scrolled": true
   },
   "outputs": [
    {
     "data": {
      "text/plain": [
       "['     Fios camera                                ',\n",
       " '     Internet                                   ',\n",
       " '     Claro                                      ',\n",
       " '     Claro                                      ',\n",
       " '     Claro                                      ',\n",
       " '     Verisure                                   ',\n",
       " '     Campanha vida adwords                      ',\n",
       " 'PREVISÃO IOF..............:                0,00D',\n",
       " 'PREVISÃO ENCARGOS.........:                0,00D',\n",
       " 'PREVISÃO TARIFAS..........:                0,00D',\n",
       " '------- SALDO DE APLICAÇÕES EM 05/05/2020-------']"
      ]
     },
     "execution_count": 11,
     "metadata": {},
     "output_type": "execute_result"
    }
   ],
   "source": [
    "descricao_deb"
   ]
  },
  {
   "cell_type": "code",
   "execution_count": 12,
   "metadata": {},
   "outputs": [
    {
     "data": {
      "text/plain": [
       "['0405 964256 DÉB.TIT.COMPE.EFETI           57,89D',\n",
       " '0405 964710 DÉB.CONV.TELECOMUN.          144,91D',\n",
       " '0505 965856 DÉB.CONV.TELECOMUN.           66,39D',\n",
       " '0505 965861 DÉB.CONV.TELECOMUN.           64,99D',\n",
       " '0505 965866 DÉB.CONV.TELECOMUN.           66,39D',\n",
       " '0505 965868 DÉB.TIT.COMPE.EFETI          185,22D',\n",
       " '0505 966546 DÉB.TIT.COMPE.EFETI          460,00D',\n",
       " 'PREVISÃO CPMF.............:                0,00D',\n",
       " 'PREVISÃO IOF..............:                0,00D',\n",
       " 'PREVISÃO ENCARGOS.........:                0,00D',\n",
       " 'PREVISÃO TARIFAS..........:                0,00D']"
      ]
     },
     "execution_count": 12,
     "metadata": {},
     "output_type": "execute_result"
    }
   ],
   "source": [
    "debitos"
   ]
  },
  {
   "cell_type": "markdown",
   "metadata": {},
   "source": [
    "# Trabalhando créditos"
   ]
  },
  {
   "cell_type": "code",
   "execution_count": 13,
   "metadata": {
    "scrolled": true
   },
   "outputs": [],
   "source": [
    "#Agrupando cada crédito com sua respectiva seguradora\n",
    "cred_e_seg = []\n",
    "contador = 0\n",
    "for i in range(len(creditos)):\n",
    "    cred_e_seg.append(creditos[i] + seguradoras[i])"
   ]
  },
  {
   "cell_type": "code",
   "execution_count": 14,
   "metadata": {},
   "outputs": [
    {
     "data": {
      "text/plain": [
       "['30/04/2020  SALDO ANTERIOR             5.820,85C30/04/2020  SALDO BLOQ.ANTERIOR            0,00*',\n",
       " '0505 1490277CRÉD.TED-STR                 102,44C     PORTO SEGURO CIA SEG GERAIS                ',\n",
       " '0505 1491369CRÉD.TED-STR                 476,96C     BRADESCO AUTO RE CIA    SEGUROS            ',\n",
       " '0505 1491508CRÉD.TED-STR                 989,72C     AZUL COMPANHIA DE SEGUROS GERAIS           ',\n",
       " '0605 1492835CRÉD.TED-STR               1.197,08C     SUL AMERICA PARTICIPACOES E INVESTIMENTO   ',\n",
       " '0605 1493089CRÉD.TED-STR                 263,36C     AZUL COMPANHIA DE SEGUROS GERAIS           ',\n",
       " 'SALDO EM C.CORRENTE....(+):            7.804,62CSALDO EM C.INVESTIMENTO(+):                0,00C',\n",
       " 'SALDO EM C.INVESTIMENTO(+):                0,00CLIMITE CONTA GARANTIDA.(+):                0,00C',\n",
       " 'LIMITE CONTA GARANTIDA.(+):                0,00CSALDO DISPONÍVEL.......(=):            7.804,62C',\n",
       " 'SALDO DISPONÍVEL.......(=):            7.804,62CSALDO BLOQ.C.CORRENTE.....:                0,00*',\n",
       " 'RDC - Longo CDI                       36.205,48C----- 000 EXTRATOS EMITIDOS ATÉ 04/05/2020 -----']"
      ]
     },
     "execution_count": 14,
     "metadata": {},
     "output_type": "execute_result"
    }
   ],
   "source": [
    "cred_e_seg"
   ]
  },
  {
   "cell_type": "code",
   "execution_count": 15,
   "metadata": {
    "scrolled": true
   },
   "outputs": [],
   "source": [
    "#Separando por seguradoras\n",
    "porto = []\n",
    "sulamerica = []\n",
    "mapfre = []\n",
    "azul=[]\n",
    "suhai = []\n",
    "tokio=[]\n",
    "bradesco = []\n",
    "liberty = []\n",
    "hdi = []\n",
    "ituran =[]\n",
    "sompo = []\n",
    "\n",
    "for i in cred_e_seg:\n",
    "    if 'PORTO' in i:\n",
    "        porto.append(i)\n",
    "    if 'SUL AMERICA' in i:\n",
    "        sulamerica.append(i)\n",
    "    if 'MAPFRE' in i:\n",
    "        mapfre.append(i)\n",
    "    if 'AZUL' in i:\n",
    "        azul.append(i)\n",
    "    if 'SUHAI' in i:\n",
    "        suhai.append(i)\n",
    "    if 'TOKIO' in i:\n",
    "        tokio.append(i)\n",
    "    if 'BRADESCO' in i:\n",
    "        bradesco.append(i)\n",
    "    if 'LIBERTY' in i:\n",
    "        liberty.append(i)\n",
    "    if 'HDI' in i:\n",
    "        hdi.append(i)\n",
    "    if 'ITURAN' in i:\n",
    "        ituran.append(i)\n",
    "    if 'SOMPO' in i:\n",
    "        sompo.append(i)"
   ]
  },
  {
   "cell_type": "code",
   "execution_count": 16,
   "metadata": {},
   "outputs": [
    {
     "data": {
      "text/plain": [
       "[]"
      ]
     },
     "execution_count": 16,
     "metadata": {},
     "output_type": "execute_result"
    }
   ],
   "source": [
    "ituran"
   ]
  },
  {
   "cell_type": "code",
   "execution_count": 17,
   "metadata": {},
   "outputs": [],
   "source": [
    "#Juntando todos em lista unica\n",
    "lista_seguradoras = [porto, sulamerica,mapfre,azul,suhai,tokio,bradesco,liberty,hdi,ituran,sompo]\n"
   ]
  },
  {
   "cell_type": "code",
   "execution_count": 18,
   "metadata": {},
   "outputs": [],
   "source": [
    "#Separando conteudo de cada transação\n",
    "listagem = []\n",
    "for j in lista_seguradoras:\n",
    "    for i in j:\n",
    "        listagem.append(i.split(sep = '     ')) "
   ]
  },
  {
   "cell_type": "code",
   "execution_count": 19,
   "metadata": {},
   "outputs": [
    {
     "data": {
      "text/plain": [
       "[['0505 1490277CRÉD.TED-STR',\n",
       "  '',\n",
       "  '',\n",
       "  '  102,44C',\n",
       "  'PORTO SEGURO CIA SEG GERAIS',\n",
       "  '',\n",
       "  '',\n",
       "  ' '],\n",
       " ['0605 1492835CRÉD.TED-STR',\n",
       "  '',\n",
       "  '',\n",
       "  '1.197,08C',\n",
       "  'SUL AMERICA PARTICIPACOES E INVESTIMENTO   '],\n",
       " ['0505 1491508CRÉD.TED-STR',\n",
       "  '',\n",
       "  '',\n",
       "  '  989,72C',\n",
       "  'AZUL COMPANHIA DE SEGUROS GERAIS',\n",
       "  '',\n",
       "  ' '],\n",
       " ['0605 1493089CRÉD.TED-STR',\n",
       "  '',\n",
       "  '',\n",
       "  '  263,36C',\n",
       "  'AZUL COMPANHIA DE SEGUROS GERAIS',\n",
       "  '',\n",
       "  ' '],\n",
       " ['0505 1491369CRÉD.TED-STR',\n",
       "  '',\n",
       "  '',\n",
       "  '  476,96C',\n",
       "  'BRADESCO AUTO RE CIA    SEGUROS',\n",
       "  '',\n",
       "  '  ']]"
      ]
     },
     "execution_count": 19,
     "metadata": {},
     "output_type": "execute_result"
    }
   ],
   "source": [
    "listagem"
   ]
  },
  {
   "cell_type": "code",
   "execution_count": 20,
   "metadata": {},
   "outputs": [],
   "source": [
    "#Transformando em DF\n",
    "df = pd.DataFrame(listagem)"
   ]
  },
  {
   "cell_type": "code",
   "execution_count": 21,
   "metadata": {},
   "outputs": [],
   "source": [
    "#Criando coluna com a data da transação\n",
    "for i in range(len(df[0])):\n",
    "    df[0][i] = (df[0][i][:2])"
   ]
  },
  {
   "cell_type": "code",
   "execution_count": 22,
   "metadata": {},
   "outputs": [
    {
     "data": {
      "text/html": [
       "<div>\n",
       "<style scoped>\n",
       "    .dataframe tbody tr th:only-of-type {\n",
       "        vertical-align: middle;\n",
       "    }\n",
       "\n",
       "    .dataframe tbody tr th {\n",
       "        vertical-align: top;\n",
       "    }\n",
       "\n",
       "    .dataframe thead th {\n",
       "        text-align: right;\n",
       "    }\n",
       "</style>\n",
       "<table border=\"1\" class=\"dataframe\">\n",
       "  <thead>\n",
       "    <tr style=\"text-align: right;\">\n",
       "      <th></th>\n",
       "      <th>0</th>\n",
       "      <th>1</th>\n",
       "      <th>2</th>\n",
       "      <th>3</th>\n",
       "      <th>4</th>\n",
       "      <th>5</th>\n",
       "      <th>6</th>\n",
       "      <th>7</th>\n",
       "    </tr>\n",
       "  </thead>\n",
       "  <tbody>\n",
       "    <tr>\n",
       "      <th>0</th>\n",
       "      <td>05</td>\n",
       "      <td></td>\n",
       "      <td></td>\n",
       "      <td>102,44C</td>\n",
       "      <td>PORTO SEGURO CIA SEG GERAIS</td>\n",
       "      <td></td>\n",
       "      <td></td>\n",
       "      <td></td>\n",
       "    </tr>\n",
       "    <tr>\n",
       "      <th>1</th>\n",
       "      <td>06</td>\n",
       "      <td></td>\n",
       "      <td></td>\n",
       "      <td>1.197,08C</td>\n",
       "      <td>SUL AMERICA PARTICIPACOES E INVESTIMENTO</td>\n",
       "      <td>None</td>\n",
       "      <td>None</td>\n",
       "      <td>None</td>\n",
       "    </tr>\n",
       "    <tr>\n",
       "      <th>2</th>\n",
       "      <td>05</td>\n",
       "      <td></td>\n",
       "      <td></td>\n",
       "      <td>989,72C</td>\n",
       "      <td>AZUL COMPANHIA DE SEGUROS GERAIS</td>\n",
       "      <td></td>\n",
       "      <td></td>\n",
       "      <td>None</td>\n",
       "    </tr>\n",
       "    <tr>\n",
       "      <th>3</th>\n",
       "      <td>06</td>\n",
       "      <td></td>\n",
       "      <td></td>\n",
       "      <td>263,36C</td>\n",
       "      <td>AZUL COMPANHIA DE SEGUROS GERAIS</td>\n",
       "      <td></td>\n",
       "      <td></td>\n",
       "      <td>None</td>\n",
       "    </tr>\n",
       "    <tr>\n",
       "      <th>4</th>\n",
       "      <td>05</td>\n",
       "      <td></td>\n",
       "      <td></td>\n",
       "      <td>476,96C</td>\n",
       "      <td>BRADESCO AUTO RE CIA    SEGUROS</td>\n",
       "      <td></td>\n",
       "      <td></td>\n",
       "      <td>None</td>\n",
       "    </tr>\n",
       "  </tbody>\n",
       "</table>\n",
       "</div>"
      ],
      "text/plain": [
       "    0 1 2          3                                            4     5     6  \\\n",
       "0  05        102,44C                  PORTO SEGURO CIA SEG GERAIS               \n",
       "1  06      1.197,08C  SUL AMERICA PARTICIPACOES E INVESTIMENTO     None  None   \n",
       "2  05        989,72C             AZUL COMPANHIA DE SEGUROS GERAIS               \n",
       "3  06        263,36C             AZUL COMPANHIA DE SEGUROS GERAIS               \n",
       "4  05        476,96C              BRADESCO AUTO RE CIA    SEGUROS               \n",
       "\n",
       "      7  \n",
       "0        \n",
       "1  None  \n",
       "2  None  \n",
       "3  None  \n",
       "4  None  "
      ]
     },
     "execution_count": 22,
     "metadata": {},
     "output_type": "execute_result"
    }
   ],
   "source": [
    "df"
   ]
  },
  {
   "cell_type": "code",
   "execution_count": 23,
   "metadata": {},
   "outputs": [
    {
     "ename": "KeyError",
     "evalue": "'[8] not found in axis'",
     "output_type": "error",
     "traceback": [
      "\u001b[1;31m---------------------------------------------------------------------------\u001b[0m",
      "\u001b[1;31mKeyError\u001b[0m                                  Traceback (most recent call last)",
      "\u001b[1;32m<ipython-input-23-cf35b4c190a7>\u001b[0m in \u001b[0;36m<module>\u001b[1;34m\u001b[0m\n\u001b[0;32m      1\u001b[0m \u001b[1;31m#Dropando colunas desnecessárias\u001b[0m\u001b[1;33m\u001b[0m\u001b[1;33m\u001b[0m\u001b[1;33m\u001b[0m\u001b[0m\n\u001b[1;32m----> 2\u001b[1;33m \u001b[0mdf\u001b[0m\u001b[1;33m.\u001b[0m\u001b[0mdrop\u001b[0m\u001b[1;33m(\u001b[0m\u001b[0mcolumns\u001b[0m \u001b[1;33m=\u001b[0m \u001b[1;33m[\u001b[0m\u001b[1;36m1\u001b[0m\u001b[1;33m,\u001b[0m\u001b[1;36m2\u001b[0m\u001b[1;33m,\u001b[0m\u001b[1;36m5\u001b[0m\u001b[1;33m,\u001b[0m\u001b[1;36m6\u001b[0m\u001b[1;33m,\u001b[0m\u001b[1;36m7\u001b[0m\u001b[1;33m,\u001b[0m\u001b[1;36m8\u001b[0m\u001b[1;33m]\u001b[0m\u001b[1;33m,\u001b[0m \u001b[0minplace\u001b[0m\u001b[1;33m=\u001b[0m\u001b[1;32mTrue\u001b[0m\u001b[1;33m)\u001b[0m\u001b[1;33m\u001b[0m\u001b[1;33m\u001b[0m\u001b[0m\n\u001b[0m",
      "\u001b[1;32m~\\AppData\\Local\\Continuum\\anaconda3\\lib\\site-packages\\pandas\\core\\frame.py\u001b[0m in \u001b[0;36mdrop\u001b[1;34m(self, labels, axis, index, columns, level, inplace, errors)\u001b[0m\n\u001b[0;32m   3995\u001b[0m             \u001b[0mlevel\u001b[0m\u001b[1;33m=\u001b[0m\u001b[0mlevel\u001b[0m\u001b[1;33m,\u001b[0m\u001b[1;33m\u001b[0m\u001b[1;33m\u001b[0m\u001b[0m\n\u001b[0;32m   3996\u001b[0m             \u001b[0minplace\u001b[0m\u001b[1;33m=\u001b[0m\u001b[0minplace\u001b[0m\u001b[1;33m,\u001b[0m\u001b[1;33m\u001b[0m\u001b[1;33m\u001b[0m\u001b[0m\n\u001b[1;32m-> 3997\u001b[1;33m             \u001b[0merrors\u001b[0m\u001b[1;33m=\u001b[0m\u001b[0merrors\u001b[0m\u001b[1;33m,\u001b[0m\u001b[1;33m\u001b[0m\u001b[1;33m\u001b[0m\u001b[0m\n\u001b[0m\u001b[0;32m   3998\u001b[0m         )\n\u001b[0;32m   3999\u001b[0m \u001b[1;33m\u001b[0m\u001b[0m\n",
      "\u001b[1;32m~\\AppData\\Local\\Continuum\\anaconda3\\lib\\site-packages\\pandas\\core\\generic.py\u001b[0m in \u001b[0;36mdrop\u001b[1;34m(self, labels, axis, index, columns, level, inplace, errors)\u001b[0m\n\u001b[0;32m   3934\u001b[0m         \u001b[1;32mfor\u001b[0m \u001b[0maxis\u001b[0m\u001b[1;33m,\u001b[0m \u001b[0mlabels\u001b[0m \u001b[1;32min\u001b[0m \u001b[0maxes\u001b[0m\u001b[1;33m.\u001b[0m\u001b[0mitems\u001b[0m\u001b[1;33m(\u001b[0m\u001b[1;33m)\u001b[0m\u001b[1;33m:\u001b[0m\u001b[1;33m\u001b[0m\u001b[1;33m\u001b[0m\u001b[0m\n\u001b[0;32m   3935\u001b[0m             \u001b[1;32mif\u001b[0m \u001b[0mlabels\u001b[0m \u001b[1;32mis\u001b[0m \u001b[1;32mnot\u001b[0m \u001b[1;32mNone\u001b[0m\u001b[1;33m:\u001b[0m\u001b[1;33m\u001b[0m\u001b[1;33m\u001b[0m\u001b[0m\n\u001b[1;32m-> 3936\u001b[1;33m                 \u001b[0mobj\u001b[0m \u001b[1;33m=\u001b[0m \u001b[0mobj\u001b[0m\u001b[1;33m.\u001b[0m\u001b[0m_drop_axis\u001b[0m\u001b[1;33m(\u001b[0m\u001b[0mlabels\u001b[0m\u001b[1;33m,\u001b[0m \u001b[0maxis\u001b[0m\u001b[1;33m,\u001b[0m \u001b[0mlevel\u001b[0m\u001b[1;33m=\u001b[0m\u001b[0mlevel\u001b[0m\u001b[1;33m,\u001b[0m \u001b[0merrors\u001b[0m\u001b[1;33m=\u001b[0m\u001b[0merrors\u001b[0m\u001b[1;33m)\u001b[0m\u001b[1;33m\u001b[0m\u001b[1;33m\u001b[0m\u001b[0m\n\u001b[0m\u001b[0;32m   3937\u001b[0m \u001b[1;33m\u001b[0m\u001b[0m\n\u001b[0;32m   3938\u001b[0m         \u001b[1;32mif\u001b[0m \u001b[0minplace\u001b[0m\u001b[1;33m:\u001b[0m\u001b[1;33m\u001b[0m\u001b[1;33m\u001b[0m\u001b[0m\n",
      "\u001b[1;32m~\\AppData\\Local\\Continuum\\anaconda3\\lib\\site-packages\\pandas\\core\\generic.py\u001b[0m in \u001b[0;36m_drop_axis\u001b[1;34m(self, labels, axis, level, errors)\u001b[0m\n\u001b[0;32m   3968\u001b[0m                 \u001b[0mnew_axis\u001b[0m \u001b[1;33m=\u001b[0m \u001b[0maxis\u001b[0m\u001b[1;33m.\u001b[0m\u001b[0mdrop\u001b[0m\u001b[1;33m(\u001b[0m\u001b[0mlabels\u001b[0m\u001b[1;33m,\u001b[0m \u001b[0mlevel\u001b[0m\u001b[1;33m=\u001b[0m\u001b[0mlevel\u001b[0m\u001b[1;33m,\u001b[0m \u001b[0merrors\u001b[0m\u001b[1;33m=\u001b[0m\u001b[0merrors\u001b[0m\u001b[1;33m)\u001b[0m\u001b[1;33m\u001b[0m\u001b[1;33m\u001b[0m\u001b[0m\n\u001b[0;32m   3969\u001b[0m             \u001b[1;32melse\u001b[0m\u001b[1;33m:\u001b[0m\u001b[1;33m\u001b[0m\u001b[1;33m\u001b[0m\u001b[0m\n\u001b[1;32m-> 3970\u001b[1;33m                 \u001b[0mnew_axis\u001b[0m \u001b[1;33m=\u001b[0m \u001b[0maxis\u001b[0m\u001b[1;33m.\u001b[0m\u001b[0mdrop\u001b[0m\u001b[1;33m(\u001b[0m\u001b[0mlabels\u001b[0m\u001b[1;33m,\u001b[0m \u001b[0merrors\u001b[0m\u001b[1;33m=\u001b[0m\u001b[0merrors\u001b[0m\u001b[1;33m)\u001b[0m\u001b[1;33m\u001b[0m\u001b[1;33m\u001b[0m\u001b[0m\n\u001b[0m\u001b[0;32m   3971\u001b[0m             \u001b[0mresult\u001b[0m \u001b[1;33m=\u001b[0m \u001b[0mself\u001b[0m\u001b[1;33m.\u001b[0m\u001b[0mreindex\u001b[0m\u001b[1;33m(\u001b[0m\u001b[1;33m**\u001b[0m\u001b[1;33m{\u001b[0m\u001b[0maxis_name\u001b[0m\u001b[1;33m:\u001b[0m \u001b[0mnew_axis\u001b[0m\u001b[1;33m}\u001b[0m\u001b[1;33m)\u001b[0m\u001b[1;33m\u001b[0m\u001b[1;33m\u001b[0m\u001b[0m\n\u001b[0;32m   3972\u001b[0m \u001b[1;33m\u001b[0m\u001b[0m\n",
      "\u001b[1;32m~\\AppData\\Local\\Continuum\\anaconda3\\lib\\site-packages\\pandas\\core\\indexes\\base.py\u001b[0m in \u001b[0;36mdrop\u001b[1;34m(self, labels, errors)\u001b[0m\n\u001b[0;32m   5016\u001b[0m         \u001b[1;32mif\u001b[0m \u001b[0mmask\u001b[0m\u001b[1;33m.\u001b[0m\u001b[0many\u001b[0m\u001b[1;33m(\u001b[0m\u001b[1;33m)\u001b[0m\u001b[1;33m:\u001b[0m\u001b[1;33m\u001b[0m\u001b[1;33m\u001b[0m\u001b[0m\n\u001b[0;32m   5017\u001b[0m             \u001b[1;32mif\u001b[0m \u001b[0merrors\u001b[0m \u001b[1;33m!=\u001b[0m \u001b[1;34m\"ignore\"\u001b[0m\u001b[1;33m:\u001b[0m\u001b[1;33m\u001b[0m\u001b[1;33m\u001b[0m\u001b[0m\n\u001b[1;32m-> 5018\u001b[1;33m                 \u001b[1;32mraise\u001b[0m \u001b[0mKeyError\u001b[0m\u001b[1;33m(\u001b[0m\u001b[1;34mf\"{labels[mask]} not found in axis\"\u001b[0m\u001b[1;33m)\u001b[0m\u001b[1;33m\u001b[0m\u001b[1;33m\u001b[0m\u001b[0m\n\u001b[0m\u001b[0;32m   5019\u001b[0m             \u001b[0mindexer\u001b[0m \u001b[1;33m=\u001b[0m \u001b[0mindexer\u001b[0m\u001b[1;33m[\u001b[0m\u001b[1;33m~\u001b[0m\u001b[0mmask\u001b[0m\u001b[1;33m]\u001b[0m\u001b[1;33m\u001b[0m\u001b[1;33m\u001b[0m\u001b[0m\n\u001b[0;32m   5020\u001b[0m         \u001b[1;32mreturn\u001b[0m \u001b[0mself\u001b[0m\u001b[1;33m.\u001b[0m\u001b[0mdelete\u001b[0m\u001b[1;33m(\u001b[0m\u001b[0mindexer\u001b[0m\u001b[1;33m)\u001b[0m\u001b[1;33m\u001b[0m\u001b[1;33m\u001b[0m\u001b[0m\n",
      "\u001b[1;31mKeyError\u001b[0m: '[8] not found in axis'"
     ]
    }
   ],
   "source": [
    "#Dropando colunas desnecessárias\n",
    "df.drop(columns = [1,2,5,6,7,8], inplace=True)"
   ]
  },
  {
   "cell_type": "code",
   "execution_count": null,
   "metadata": {},
   "outputs": [],
   "source": [
    "df"
   ]
  },
  {
   "cell_type": "code",
   "execution_count": null,
   "metadata": {
    "scrolled": true
   },
   "outputs": [],
   "source": [
    "df[3][5]#[:8]"
   ]
  },
  {
   "cell_type": "code",
   "execution_count": null,
   "metadata": {},
   "outputs": [],
   "source": [
    "#Removando o \"C\" do final dos valores \n",
    "for i in range(len(df[3])):\n",
    "    df[3][i] = (df[3][i][:8])"
   ]
  },
  {
   "cell_type": "code",
   "execution_count": null,
   "metadata": {},
   "outputs": [],
   "source": [
    "df"
   ]
  },
  {
   "cell_type": "code",
   "execution_count": null,
   "metadata": {},
   "outputs": [],
   "source": [
    "df.to_csv('creditos.csv')"
   ]
  },
  {
   "cell_type": "markdown",
   "metadata": {},
   "source": [
    "# Trabalhando débitos"
   ]
  },
  {
   "cell_type": "code",
   "execution_count": null,
   "metadata": {},
   "outputs": [],
   "source": [
    "debitos"
   ]
  },
  {
   "cell_type": "code",
   "execution_count": null,
   "metadata": {},
   "outputs": [],
   "source": [
    "dia = []\n",
    "\n",
    "for i in debitos:\n",
    "    if 'PREVISÃO' in i:\n",
    "        break\n",
    "    \n",
    "    cell = i[0] + i[1]\n",
    "    \n",
    "    dia.append(cell)"
   ]
  },
  {
   "cell_type": "code",
   "execution_count": null,
   "metadata": {},
   "outputs": [],
   "source": [
    "descricao_lista = []\n",
    "\n",
    "num = 12\n",
    "for i in debitos:\n",
    "    if 'PREVISÃO' in i:\n",
    "        break\n",
    "    cell = i[12]+i[13]+i[14]+i[15]+i[16]+i[17]+i[18]+i[19]+i[20]+i[21]+i[22]+i[23]+i[24]+i[25]+i[26]+i[27]+i[28]+i[29]+i[30]\n",
    "    \n",
    "    descricao_lista.append(cell)"
   ]
  },
  {
   "cell_type": "code",
   "execution_count": null,
   "metadata": {},
   "outputs": [],
   "source": [
    "desc_deb = []\n",
    "\n",
    "for i in descricao_deb:\n",
    "    if ('PREVISÃO' in i):\n",
    "        break\n",
    "    desc_deb.append(i)"
   ]
  },
  {
   "cell_type": "code",
   "execution_count": null,
   "metadata": {},
   "outputs": [],
   "source": [
    "valor = []\n",
    "\n",
    "for i in debitos:\n",
    "    if 'PREVISÃO' in i:\n",
    "        break\n",
    "    cell = \"\"\n",
    "    cell = i[len(i)-9] + i[len(i)-8] + i[len(i)-7] + i[len(i)-6] + i[len(i)-5] + i[len(i)-4] + i[len(i)-3] + i[len(i)-2]\n",
    "    \n",
    "    valor.append(cell)"
   ]
  },
  {
   "cell_type": "code",
   "execution_count": null,
   "metadata": {},
   "outputs": [],
   "source": [
    "#tira os Debitos duplicados na descricao\n",
    "desc_deb2 = []\n",
    "\n",
    "for i in desc_deb:\n",
    "    if (i.endswith('D')==True):\n",
    "        i = i[:i.rfind(\"D\")-5]\n",
    "    desc_deb2.append(i)"
   ]
  },
  {
   "cell_type": "code",
   "execution_count": null,
   "metadata": {},
   "outputs": [],
   "source": [
    "debituuu = pd.DataFrame()"
   ]
  },
  {
   "cell_type": "code",
   "execution_count": null,
   "metadata": {},
   "outputs": [],
   "source": [
    "debituuu[\"dia\"] = dia\n",
    "debituuu[\"descricao\"] = descricao_lista\n",
    "debituuu[\"descricao2\"] = desc_deb2\n",
    "debituuu[\"valor\"] = valor"
   ]
  },
  {
   "cell_type": "code",
   "execution_count": null,
   "metadata": {
    "scrolled": true
   },
   "outputs": [],
   "source": [
    "debituuu"
   ]
  },
  {
   "cell_type": "code",
   "execution_count": null,
   "metadata": {},
   "outputs": [],
   "source": [
    "debitos"
   ]
  },
  {
   "cell_type": "code",
   "execution_count": null,
   "metadata": {},
   "outputs": [],
   "source": [
    "debituuu.to_csv('debitos.csv')"
   ]
  },
  {
   "cell_type": "code",
   "execution_count": null,
   "metadata": {},
   "outputs": [],
   "source": [
    "debituuu.valor.sum(axis=0)"
   ]
  }
 ],
 "metadata": {
  "kernelspec": {
   "display_name": "Python 3",
   "language": "python",
   "name": "python3"
  },
  "language_info": {
   "codemirror_mode": {
    "name": "ipython",
    "version": 3
   },
   "file_extension": ".py",
   "mimetype": "text/x-python",
   "name": "python",
   "nbconvert_exporter": "python",
   "pygments_lexer": "ipython3",
   "version": "3.7.4"
  }
 },
 "nbformat": 4,
 "nbformat_minor": 2
}
