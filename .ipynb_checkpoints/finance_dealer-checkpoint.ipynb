{
 "cells": [
  {
   "cell_type": "code",
   "execution_count": 1,
   "metadata": {},
   "outputs": [],
   "source": [
    "import pandas as pd"
   ]
  },
  {
   "cell_type": "code",
   "execution_count": 2,
   "metadata": {},
   "outputs": [],
   "source": [
    "txt = open(\"extrato (7).rtf\",newline = '\\r').read()"
   ]
  },
  {
   "cell_type": "code",
   "execution_count": 3,
   "metadata": {},
   "outputs": [],
   "source": [
    "#Formatando as linhas\n",
    "txt = (txt.split(sep = '\\n')) "
   ]
  },
  {
   "cell_type": "code",
   "execution_count": 4,
   "metadata": {},
   "outputs": [],
   "source": [
    "df = pd.DataFrame()\n",
    "df['col'] = txt"
   ]
  },
  {
   "cell_type": "code",
   "execution_count": 5,
   "metadata": {},
   "outputs": [],
   "source": [
    "#Separando creditos e debitos\n",
    "credits, debits, credits_desc, debits_desc = [],[],[],[]\n",
    "\n",
    "for i in range(len(df)-1):\n",
    "    \n",
    "    if df.col[i][-1] == 'C' and 'SALDO DO DIA' not in df.col[i]:\n",
    "        credits.append(df.col[i])\n",
    "        credits_desc.append(df.col[i+1])\n",
    "    elif df.col[i][-1] == 'D':\n",
    "        debits.append(df.col[i])\n",
    "        debits_desc.append(df.col[i+1])"
   ]
  },
  {
   "cell_type": "code",
   "execution_count": 6,
   "metadata": {},
   "outputs": [],
   "source": [
    "#Criando dataframe para armazenar creditos e suas descrições\n",
    "df_cred = pd.DataFrame()\n",
    "df_cred['cred'] = credits\n",
    "df_cred['cred_desc'] =credits_desc"
   ]
  },
  {
   "cell_type": "code",
   "execution_count": 7,
   "metadata": {},
   "outputs": [],
   "source": [
    "#separando valores e datas e criando novas colunas para cada\n",
    "data,valor = [],[]\n",
    "for i in range(len(df_cred)):\n",
    "    data.append(df_cred.cred[i].rsplit()[0])\n",
    "    valor.append(df_cred.cred[i].rsplit()[2])\n",
    "    \n",
    "df_cred['data'] = data\n",
    "df_cred['valor'] = valor\n",
    "df_cred.drop(['cred'], axis =1, inplace = True)"
   ]
  },
  {
   "cell_type": "code",
   "execution_count": 8,
   "metadata": {},
   "outputs": [],
   "source": [
    "#Limpando rows indesejadas\n",
    "df_cred = df_cred[df_cred.data != 'SALDO']\n",
    "df_cred = df_cred[df_cred.data != 'LIMITE']\n",
    "df_cred = df_cred[df_cred.data != 'RDC']\n",
    "df_cred = df_cred[df_cred.valor != 'ANTERIOR']"
   ]
  },
  {
   "cell_type": "code",
   "execution_count": 9,
   "metadata": {},
   "outputs": [],
   "source": [
    "#Formatando campo \"valor\"\n",
    "df_cred['valor'] = df_cred['valor'].str.replace('C','')\n",
    "df_cred['valor'] = df_cred['valor'].str.replace(',','.')\n",
    "df_cred = df_cred[['data','cred_desc','valor']]"
   ]
  },
  {
   "cell_type": "code",
   "execution_count": 10,
   "metadata": {},
   "outputs": [],
   "source": [
    "df_cred.to_excel('creditos_new.xlsx', index=False)"
   ]
  }
 ],
 "metadata": {
  "kernelspec": {
   "display_name": "Python 3",
   "language": "python",
   "name": "python3"
  },
  "language_info": {
   "codemirror_mode": {
    "name": "ipython",
    "version": 3
   },
   "file_extension": ".py",
   "mimetype": "text/x-python",
   "name": "python",
   "nbconvert_exporter": "python",
   "pygments_lexer": "ipython3",
   "version": "3.7.4"
  }
 },
 "nbformat": 4,
 "nbformat_minor": 2
}
