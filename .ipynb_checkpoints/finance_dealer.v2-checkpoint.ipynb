{
 "cells": [
  {
   "cell_type": "code",
   "execution_count": null,
   "metadata": {},
   "outputs": [],
   "source": [
    "#Importando pacotes\n",
    "import pandas as pd"
   ]
  },
  {
   "cell_type": "code",
   "execution_count": null,
   "metadata": {},
   "outputs": [],
   "source": [
    "txt = open(\"extrato.rtf\",newline = '\\r').read()"
   ]
  },
  {
   "cell_type": "code",
   "execution_count": null,
   "metadata": {},
   "outputs": [],
   "source": [
    "#Formatando as linhas\n",
    "txt = (txt.split(sep = '\\n')) "
   ]
  },
  {
   "cell_type": "code",
   "execution_count": null,
   "metadata": {},
   "outputs": [],
   "source": [
    "txt"
   ]
  },
  {
   "cell_type": "code",
   "execution_count": null,
   "metadata": {},
   "outputs": [],
   "source": [
    "#Separando creditos e de qual seguradoras eles pertencem\n",
    "\n",
    "creditos = []\n",
    "seguradoras = []\n",
    "contador = 0\n",
    "for i in txt:        \n",
    "    contador += 1\n",
    "    if i[len(i)-1:] == 'C' and 'SALDO DO DIA' not in i:\n",
    "        creditos.append(i)\n",
    "        seguradoras.append(txt[contador])"
   ]
  },
  {
   "cell_type": "code",
   "execution_count": null,
   "metadata": {},
   "outputs": [],
   "source": [
    "seguradoras"
   ]
  },
  {
   "cell_type": "code",
   "execution_count": null,
   "metadata": {},
   "outputs": [],
   "source": [
    "creditos"
   ]
  },
  {
   "cell_type": "code",
   "execution_count": null,
   "metadata": {},
   "outputs": [],
   "source": [
    "#Separando debitos e suas descrições\n",
    "debitos = []\n",
    "descricao_deb = []\n",
    "contador = 0\n",
    "for i in txt:\n",
    "    if i[len(i)-1:] == 'D' and 'SALDO DO DIA' not in txt[contador+1]:\n",
    "        debitos.append(i)\n",
    "        descricao_deb.append(txt[contador+1])\n",
    "    if i[len(i)-1:] == 'D' and 'SALDO DO DIA' in txt[contador+1]:\n",
    "        debitos.append(i)\n",
    "        descricao_deb.append('     VAZIO')\n",
    "    contador += 1"
   ]
  },
  {
   "cell_type": "code",
   "execution_count": null,
   "metadata": {},
   "outputs": [],
   "source": [
    "txt"
   ]
  },
  {
   "cell_type": "code",
   "execution_count": null,
   "metadata": {},
   "outputs": [],
   "source": [
    "descricao_deb"
   ]
  },
  {
   "cell_type": "code",
   "execution_count": null,
   "metadata": {},
   "outputs": [],
   "source": [
    "debitos"
   ]
  },
  {
   "cell_type": "markdown",
   "metadata": {},
   "source": [
    "# Trabalhando créditos"
   ]
  },
  {
   "cell_type": "code",
   "execution_count": null,
   "metadata": {
    "scrolled": true
   },
   "outputs": [],
   "source": [
    "#Agrupando cada crédito com sua respectiva seguradora\n",
    "cred_e_seg = []\n",
    "contador = 0\n",
    "for i in range(len(creditos)):\n",
    "    cred_e_seg.append(creditos[i] + seguradoras[i])"
   ]
  },
  {
   "cell_type": "code",
   "execution_count": null,
   "metadata": {},
   "outputs": [],
   "source": [
    "cred_e_seg"
   ]
  },
  {
   "cell_type": "code",
   "execution_count": null,
   "metadata": {
    "scrolled": true
   },
   "outputs": [],
   "source": [
    "#Separando por seguradoras\n",
    "porto = []\n",
    "sulamerica = []\n",
    "mapfre = []\n",
    "azul=[]\n",
    "suhai = []\n",
    "tokio=[]\n",
    "bradesco = []\n",
    "liberty = []\n",
    "hdi = []\n",
    "ituran =[]\n",
    "sompo = []\n",
    "carro_facil = []\n",
    "\n",
    "for i in cred_e_seg:\n",
    "    if 'PORTO' in i and 'LOCADORA' not in i:\n",
    "        porto.append(i)\n",
    "    if 'PORTO' in i and 'LOCADORA' in i:\n",
    "        carro_facil.append(i)\n",
    "    if 'SUL AMERICA' in i:\n",
    "        sulamerica.append(i)\n",
    "    if 'MAPFRE' in i:\n",
    "        mapfre.append(i)\n",
    "    if 'AZUL' in i:\n",
    "        azul.append(i)\n",
    "    if 'SUHAI' in i:\n",
    "        suhai.append(i)\n",
    "    if 'TOKIO' in i:\n",
    "        tokio.append(i)\n",
    "    if 'BRADESCO' in i:\n",
    "        bradesco.append(i)\n",
    "    if 'LIBERTY' in i:\n",
    "        liberty.append(i)\n",
    "    if 'HDI' in i:\n",
    "        hdi.append(i)\n",
    "    if 'ITURAN' in i:\n",
    "        ituran.append(i)\n",
    "    if 'SOMPO' in i:\n",
    "        sompo.append(i)"
   ]
  },
  {
   "cell_type": "code",
   "execution_count": null,
   "metadata": {},
   "outputs": [],
   "source": [
    "#Juntando todos em lista unica\n",
    "lista_seguradoras = [porto, sulamerica,mapfre,azul,suhai,tokio,bradesco,liberty,hdi,ituran,sompo,carro_facil]\n"
   ]
  },
  {
   "cell_type": "code",
   "execution_count": null,
   "metadata": {},
   "outputs": [],
   "source": [
    "#Separando conteudo de cada transação\n",
    "listagem = []\n",
    "for j in lista_seguradoras:\n",
    "    for i in j:\n",
    "        listagem.append(i.split(sep = '     ')) "
   ]
  },
  {
   "cell_type": "code",
   "execution_count": null,
   "metadata": {},
   "outputs": [],
   "source": [
    "listagem"
   ]
  },
  {
   "cell_type": "code",
   "execution_count": null,
   "metadata": {},
   "outputs": [],
   "source": [
    "#Transformando em DF\n",
    "df = pd.DataFrame(listagem)"
   ]
  },
  {
   "cell_type": "code",
   "execution_count": null,
   "metadata": {},
   "outputs": [],
   "source": [
    "#Criando coluna com a data da transação\n",
    "for i in range(len(df[0])):\n",
    "    df[0][i] = (df[0][i][:2])"
   ]
  },
  {
   "cell_type": "code",
   "execution_count": null,
   "metadata": {},
   "outputs": [],
   "source": [
    "df"
   ]
  },
  {
   "cell_type": "code",
   "execution_count": null,
   "metadata": {},
   "outputs": [],
   "source": [
    "#Dropando colunas desnecessárias\n",
    "df.drop(columns = [1,2,5,6,7,8], inplace=True)"
   ]
  },
  {
   "cell_type": "code",
   "execution_count": null,
   "metadata": {},
   "outputs": [],
   "source": [
    "df"
   ]
  },
  {
   "cell_type": "code",
   "execution_count": null,
   "metadata": {},
   "outputs": [],
   "source": [
    "for i in range(len(df)):\n",
    "    df[3][i] = df[3][i].strip('C')"
   ]
  },
  {
   "cell_type": "code",
   "execution_count": null,
   "metadata": {},
   "outputs": [],
   "source": [
    "df"
   ]
  },
  {
   "cell_type": "code",
   "execution_count": null,
   "metadata": {},
   "outputs": [],
   "source": [
    "df.to_csv('creditos.csv')"
   ]
  },
  {
   "cell_type": "markdown",
   "metadata": {},
   "source": [
    "# Trabalhando débitos"
   ]
  },
  {
   "cell_type": "code",
   "execution_count": null,
   "metadata": {},
   "outputs": [],
   "source": [
    "debitos"
   ]
  },
  {
   "cell_type": "code",
   "execution_count": null,
   "metadata": {},
   "outputs": [],
   "source": [
    "dia = []\n",
    "\n",
    "for i in debitos:\n",
    "    if 'PREVISÃO' in i:\n",
    "        break\n",
    "    \n",
    "    cell = i[0] + i[1]\n",
    "    \n",
    "    dia.append(cell)"
   ]
  },
  {
   "cell_type": "code",
   "execution_count": null,
   "metadata": {},
   "outputs": [],
   "source": [
    "descricao_lista = []\n",
    "\n",
    "num = 12\n",
    "for i in debitos:\n",
    "    if 'PREVISÃO' in i:\n",
    "        break\n",
    "    cell = i[12]+i[13]+i[14]+i[15]+i[16]+i[17]+i[18]+i[19]+i[20]+i[21]+i[22]+i[23]+i[24]+i[25]+i[26]+i[27]+i[28]+i[29]+i[30]\n",
    "    \n",
    "    descricao_lista.append(cell)"
   ]
  },
  {
   "cell_type": "code",
   "execution_count": null,
   "metadata": {},
   "outputs": [],
   "source": [
    "desc_deb = []\n",
    "\n",
    "for i in descricao_deb:\n",
    "    if ('PREVISÃO' in i):\n",
    "        break\n",
    "    desc_deb.append(i)"
   ]
  },
  {
   "cell_type": "code",
   "execution_count": null,
   "metadata": {},
   "outputs": [],
   "source": [
    "valor = []\n",
    "\n",
    "for i in debitos:\n",
    "    if 'PREVISÃO' in i:\n",
    "        break\n",
    "    cell = \"\"\n",
    "    cell = i[len(i)-9] + i[len(i)-8] + i[len(i)-7] + i[len(i)-6] + i[len(i)-5] + i[len(i)-4] + i[len(i)-3] + i[len(i)-2]\n",
    "    \n",
    "    valor.append(cell)"
   ]
  },
  {
   "cell_type": "code",
   "execution_count": null,
   "metadata": {},
   "outputs": [],
   "source": [
    "#tira os Debitos duplicados na descricao\n",
    "desc_deb2 = []\n",
    "\n",
    "for i in desc_deb:\n",
    "    if (i.endswith('D')==True):\n",
    "        i = i[:i.rfind(\"D\")-5]\n",
    "    desc_deb2.append(i)"
   ]
  },
  {
   "cell_type": "code",
   "execution_count": null,
   "metadata": {},
   "outputs": [],
   "source": [
    "debituuu = pd.DataFrame()"
   ]
  },
  {
   "cell_type": "code",
   "execution_count": null,
   "metadata": {},
   "outputs": [],
   "source": [
    "debituuu[\"dia\"] = dia\n",
    "debituuu[\"descricao\"] = descricao_lista\n",
    "debituuu[\"descricao2\"] = desc_deb2\n",
    "debituuu[\"valor\"] = valor"
   ]
  },
  {
   "cell_type": "code",
   "execution_count": null,
   "metadata": {
    "scrolled": true
   },
   "outputs": [],
   "source": [
    "debituuu"
   ]
  },
  {
   "cell_type": "code",
   "execution_count": null,
   "metadata": {},
   "outputs": [],
   "source": [
    "debitos"
   ]
  },
  {
   "cell_type": "code",
   "execution_count": null,
   "metadata": {},
   "outputs": [],
   "source": [
    "debituuu.to_csv('debitos.csv')"
   ]
  },
  {
   "cell_type": "code",
   "execution_count": null,
   "metadata": {},
   "outputs": [],
   "source": [
    "debituuu.valor.sum(axis=0)"
   ]
  },
  {
   "cell_type": "code",
   "execution_count": null,
   "metadata": {},
   "outputs": [],
   "source": []
  }
 ],
 "metadata": {
  "kernelspec": {
   "display_name": "Python 3",
   "language": "python",
   "name": "python3"
  },
  "language_info": {
   "codemirror_mode": {
    "name": "ipython",
    "version": 3
   },
   "file_extension": ".py",
   "mimetype": "text/x-python",
   "name": "python",
   "nbconvert_exporter": "python",
   "pygments_lexer": "ipython3",
   "version": "3.7.4"
  }
 },
 "nbformat": 4,
 "nbformat_minor": 2
}
